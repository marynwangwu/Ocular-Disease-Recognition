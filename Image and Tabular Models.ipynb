{
 "cells": [
  {
   "cell_type": "markdown",
   "id": "38f56057-d772-40e4-85c4-a9e5507fbd89",
   "metadata": {},
   "source": [
    "# Multi-Modal Input Models"
   ]
  },
  {
   "cell_type": "code",
   "execution_count": 1,
   "id": "d73f2750-eded-48f7-a5f0-9cedbde8761a",
   "metadata": {},
   "outputs": [],
   "source": [
    "import numpy as np\n",
    "from PIL import Image, ImageOps\n",
    "import matplotlib.pyplot as plt\n",
    "import torch\n",
    "import torch.nn as nn\n",
    "import torch.nn.functional as F\n",
    "from torch.utils.data import Dataset, DataLoader\n",
    "import pandas as pd\n",
    "import os\n",
    "from skimage import io\n",
    "import torch\n",
    "from skimage import color\n",
    "from torchvision import transforms\n",
    "import torchvision.models as models\n",
    "import ast\n",
    "import time\n",
    "from sklearn.metrics import roc_auc_score\n",
    "from sklearn.metrics import roc_curve, auc\n",
    "from sklearn.metrics import cohen_kappa_score, f1_score, roc_auc_score\n",
    "from sklearn.model_selection import train_test_split\n",
    "import pickle\n",
    "from copy import deepcopy"
   ]
  },
  {
   "cell_type": "code",
   "execution_count": 2,
   "id": "81219233-6fa5-4aca-aada-27cb5f44349e",
   "metadata": {},
   "outputs": [],
   "source": [
    "if torch.cuda.is_available:\n",
    "    device = torch.device('cuda')\n",
    "else:\n",
    "    device = torch.device('cpu')"
   ]
  },
  {
   "cell_type": "markdown",
   "id": "5a5019b7-a6bf-412f-9b8e-b77f93d19f12",
   "metadata": {},
   "source": [
    "## Transformations"
   ]
  },
  {
   "cell_type": "code",
   "execution_count": 3,
   "id": "c89e7145-e141-4a62-bc2c-f958020e4044",
   "metadata": {},
   "outputs": [],
   "source": [
    "transform = transforms.Compose([\n",
    "        transforms.ToPILImage(),\n",
    "        transforms.Resize((128, 128)),\n",
    "        transforms.ToTensor(),\n",
    "        transforms.Normalize([0.485, 0.456, 0.406], [0.229, 0.224, 0.225])])"
   ]
  },
  {
   "cell_type": "markdown",
   "id": "da7eed5d-0418-4e19-bb96-214b30dd972c",
   "metadata": {},
   "source": [
    "## Dataset"
   ]
  },
  {
   "cell_type": "code",
   "execution_count": 4,
   "id": "125938ae-7d05-4161-a78b-bf8be164c051",
   "metadata": {},
   "outputs": [],
   "source": [
    "class FundusDataset_MM(Dataset):\n",
    "    def __init__(self, csv_file, root_dir, transform=None):\n",
    "        \"\"\"\n",
    "        Args:\n",
    "            csv_file (string): Path to the csv file with filename information.\n",
    "            root_dir (string): Directory with all the images.\n",
    "            transform (callable, optional): Optional transform to be applied on a sample.\n",
    "        \"\"\"\n",
    "        self.data_frame = pd.read_csv(csv_file)\n",
    "        self.root_dir = root_dir\n",
    "        self.transform = transform\n",
    "\n",
    "    def __len__(self):\n",
    "        return len(self.data_frame)\n",
    "\n",
    "    def __getitem__(self, idx):\n",
    "        left_img_name = os.path.join(self.root_dir, self.data_frame.iloc[idx, 3])\n",
    "        right_img_name = os.path.join(self.root_dir, self.data_frame.iloc[idx, 4])\n",
    "\n",
    "        left_image = io.imread(left_img_name)\n",
    "        right_image = io.imread(right_img_name)\n",
    "\n",
    "        if len(left_image.shape) > 2 and left_image.shape[2] == 4:\n",
    "            left_image = left_image[:, :, 0]\n",
    "        if len(right_image.shape) > 2 and right_image.shape[2] == 4:\n",
    "            right_image = right_image[:, :, 0]\n",
    "\n",
    "        if left_image.shape[-1] != 3:\n",
    "            left_image = np.repeat(left_image[:, :, np.newaxis], 3, axis=2)\n",
    "        if right_image.shape[-1] != 3:\n",
    "            right_image = np.repeat(right_image[:, :, np.newaxis], 3, axis=2)\n",
    "\n",
    "        image_class = self.data_frame.iloc[idx, -1]\n",
    "        image_class = ast.literal_eval(image_class)\n",
    "        image_class = torch.tensor(image_class, dtype=torch.int64)\n",
    "        one_hot_image_class = F.one_hot(image_class, num_classes=2).squeeze(0)\n",
    "\n",
    "        # Tabular patient data\n",
    "        age_gender = self.data_frame.iloc[idx, 1:3] # age and gender\n",
    "        age_gender = torch.tensor(age_gender, dtype=torch.float32)\n",
    "\n",
    "        if self.transform:\n",
    "            left_image = self.transform(left_image)\n",
    "            right_image = self.transform(right_image)\n",
    "\n",
    "        if left_image.dim() == 2:\n",
    "            left_image = left_image.unsqueeze(0)\n",
    "        if right_image.dim() == 2:\n",
    "            right_image = right_image.unsqueeze(0)\n",
    "\n",
    "        sample = {'left_image': left_image, 'right_image': right_image, 'age_gender': age_gender, 'class': one_hot_image_class}\n",
    "\n",
    "        return sample\n"
   ]
  },
  {
   "cell_type": "markdown",
   "id": "b6473f7c-996e-4e16-b501-1f416d49f3a8",
   "metadata": {},
   "source": [
    "## Dataloading"
   ]
  },
  {
   "cell_type": "code",
   "execution_count": 5,
   "id": "821aebda-416b-4b50-a22f-cad221289358",
   "metadata": {},
   "outputs": [],
   "source": [
    "# Set csv file paths for training\n",
    "train_info_path = r'./OIA-ODIR/Training Set/Annotation/training_annotation_filtered_OHE.csv'\n",
    "valid_info_path = r'./OIA-ODIR/Off-site Test Set/Annotation/validation_annotation_filtered_OHE.csv'\n",
    "test_info_path = r'./OIA-ODIR/On-site Test Set/Annotation/testing_annotation_filtered_OHE.csv'\n",
    "\n",
    "# Set root directory paths\n",
    "train_root_dir = r'./OIA-ODIR/Training Set/Images'\n",
    "valid_root_dir = r'./OIA-ODIR//Off-site Test Set/Images'\n",
    "test_root_dir = r'./OIA-ODIR/On-site Test Set/Images'\n",
    "\n",
    "# Transformed dataset for left and right fundus\n",
    "transformed_dataset = {\n",
    "    'train': FundusDataset_MM(csv_file=train_info_path, root_dir=train_root_dir, transform=transform),\n",
    "    'validate': FundusDataset_MM(csv_file=valid_info_path, root_dir=valid_root_dir, transform=transform),\n",
    "    'test': FundusDataset_MM(csv_file=test_info_path, root_dir=test_root_dir, transform=transform)\n",
    "}"
   ]
  },
  {
   "cell_type": "markdown",
   "id": "3a718c43-5d57-4d69-8b75-c1450713272a",
   "metadata": {},
   "source": [
    "## Model 1: Late Fusion (SUM)"
   ]
  },
  {
   "cell_type": "code",
   "execution_count": 6,
   "id": "3e0e57b1-74b8-4f77-ad8a-808264903708",
   "metadata": {},
   "outputs": [],
   "source": [
    "class LateFusionSUM_MM_Resnet18(nn.Module):\n",
    "    def __init__(self):\n",
    "        super(LateFusionSUM_MM_Resnet18, self).__init__()\n",
    "        self.resnet18 = models.resnet18(weights='DEFAULT')\n",
    "        num_image_features = self.resnet18.fc.in_features\n",
    "        self.resnet18.fc = nn.Identity()\n",
    "        self.fc_image = nn.Linear(num_image_features, 512)  # Fusion layer for image features\n",
    "        self.fc_tabular = nn.Linear(2, 64)  # Fusion layer for tabular features\n",
    "        self.fc_final = nn.Linear(512 + 64, 512)  # Fusion layer for combined features\n",
    "        self.classifiers = nn.ModuleList([nn.Linear(512, 2) for _ in range(8)])  # 8 classifiers for multi-label classification\n",
    "        \n",
    "    def forward(self, left, right, age_gender):\n",
    "        left_features = self.resnet18(left)\n",
    "        right_features = self.resnet18(right)\n",
    "        \n",
    "        # Combine image features using element-wise sum\n",
    "        fused_image_features = left_features + right_features\n",
    "        fused_image_features = self.fc_image(fused_image_features)\n",
    "        \n",
    "        # tabular features\n",
    "        tabular_features = self.fc_tabular(age_gender)\n",
    "        \n",
    "        # Concatenate image and tabular features\n",
    "        combined_features = torch.cat((fused_image_features, tabular_features), dim=1)\n",
    "        combined_features = self.fc_final(combined_features)\n",
    "        \n",
    "        outputs = [classifier(combined_features) for classifier in self.classifiers]\n",
    "        return torch.stack(outputs, dim=1)\n"
   ]
  },
  {
   "cell_type": "markdown",
   "id": "468c76bc-5e5f-4ef8-9636-5d34043556e4",
   "metadata": {},
   "source": [
    "## Model 2: Late Fusion (CONCAT)"
   ]
  },
  {
   "cell_type": "code",
   "execution_count": 7,
   "id": "efc59e75-1ae8-4d37-845a-c77e0c6ea1e2",
   "metadata": {},
   "outputs": [],
   "source": [
    "class LateFusionCONCAT_MM_Resnet18(nn.Module):\n",
    "    def __init__(self):\n",
    "        super(LateFusionCONCAT_MM_Resnet18, self).__init__()\n",
    "        self.resnet18 = models.resnet18(weights='DEFAULT')\n",
    "        num_image_features = self.resnet18.fc.in_features\n",
    "        self.resnet18.fc = nn.Identity()  # Remove the fully connected layer\n",
    "        self.fc_image = nn.Linear(num_image_features * 2, 512)  # Fusion layer\n",
    "        self.fc_tabular = nn.Linear(2, 64)\n",
    "        self.fc_final = nn.Linear(512 + 64, 512)\n",
    "        self.classifiers = nn.ModuleList([nn.Linear(512, 2) for _ in range(8)])  # 8 classifiers for multi-label classification\n",
    "        \n",
    "    def forward(self, left, right, age_gender):\n",
    "        left_features = self.resnet18(left)\n",
    "        right_features = self.resnet18(right)\n",
    "        fused_image_features = torch.cat((left_features, right_features), dim=1)  # concat features late fusion\n",
    "        fused_image_features = self.fc_image(fused_image_features)\n",
    "\n",
    "        # tabular features\n",
    "        tabular_features = self.fc_tabular(age_gender)\n",
    "        \n",
    "        # Concatenate image and tabular features\n",
    "        combined_features = torch.cat((fused_image_features, tabular_features), dim=1)\n",
    "        combined_features = self.fc_final(combined_features)\n",
    "        \n",
    "        outputs = [classifier(combined_features) for classifier in self.classifiers]\n",
    "        return torch.stack(outputs, dim=1)"
   ]
  },
  {
   "cell_type": "markdown",
   "id": "ddc8c86d-d3a0-4285-b475-aae3025b9a7a",
   "metadata": {},
   "source": [
    "## Model 3: Late Fusion (PROD)"
   ]
  },
  {
   "cell_type": "code",
   "execution_count": 8,
   "id": "c8e60081-b2c7-444b-9036-5761f1322f51",
   "metadata": {},
   "outputs": [],
   "source": [
    "class LateFusionPROD_MM_Resnet18(nn.Module):\n",
    "    def __init__(self):\n",
    "        super(LateFusionPROD_MM_Resnet18, self).__init__()\n",
    "        self.resnet18 = models.resnet18(weights='DEFAULT')\n",
    "        num_image_features = self.resnet18.fc.in_features\n",
    "        self.resnet18.fc = nn.Identity()  # Remove the fully connected layer\n",
    "        self.fc_image = nn.Linear(num_image_features, 512)  # Fusion layer\n",
    "        self.fc_tabular = nn.Linear(2, 64)  # Fusion layer for tabular features\n",
    "        self.fc_final = nn.Linear(512 + 64, 512)\n",
    "        self.classifiers = nn.ModuleList([nn.Linear(512, 2) for _ in range(8)])  # 8 classifiers for multi-label classification\n",
    "        \n",
    "    def forward(self, left, right, age_gender):\n",
    "        left_features = self.resnet18(left)\n",
    "        right_features = self.resnet18(right)\n",
    "        fused_image_features = left_features * right_features  # Element-wise product fusion\n",
    "        fused_image_features = self.fc_image(fused_image_features)\n",
    "\n",
    "        # tabular features\n",
    "        tabular_features = self.fc_tabular(age_gender)\n",
    "\n",
    "        # Concatenate image and tabular features\n",
    "        combined_features = torch.cat((fused_image_features, tabular_features), dim=1)\n",
    "        combined_features = self.fc_final(combined_features)\n",
    "        \n",
    "        outputs = [classifier(combined_features) for classifier in self.classifiers]\n",
    "        return torch.stack(outputs, dim=1)"
   ]
  },
  {
   "cell_type": "markdown",
   "id": "0969a21e-75ac-4d2b-b8e3-cf64b7984a25",
   "metadata": {},
   "source": [
    "## Model 4: Early Fusion (SUM)"
   ]
  },
  {
   "cell_type": "code",
   "execution_count": 9,
   "id": "18594e91-8d82-4e98-bd45-01ee7d0a70d4",
   "metadata": {},
   "outputs": [],
   "source": [
    "class EarlyFusionSUM_MM_Resnet18(nn.Module):\n",
    "    def __init__(self):\n",
    "        super(EarlyFusionSUM_MM_Resnet18, self).__init__()\n",
    "        self.resnet18 = models.resnet18(weights='DEFAULT')\n",
    "        num_image_features = self.resnet18.fc.in_features\n",
    "        self.resnet18.fc = nn.Identity()  # Remove the fully connected layer\n",
    "        self.fc_image = nn.Linear(num_image_features, 512)  # Fusion layer for image features\n",
    "        self.fc_tabular = nn.Linear(2, 64)  # Fusion layer for tabular features\n",
    "        self.fc_final = nn.Linear(512 + 64, 512)  # Fusion layer for combined features\n",
    "        self.classifiers = nn.ModuleList([nn.Linear(512, 2) for _ in range(8)])  # 8 classifiers for multi-label classification\n",
    "        \n",
    "    def forward(self, left, right, age_gender):\n",
    "        summed_input = left + right # Element-wise summation\n",
    "        fused_image_features = self.resnet18(summed_input)\n",
    "        fused_image_features = self.fc_image(fused_image_features)\n",
    "        \n",
    "        # tabular features\n",
    "        tabular_features = self.fc_tabular(age_gender)\n",
    "\n",
    "        # Concatenate image and tabular features\n",
    "        combined_features = torch.cat((fused_image_features, tabular_features), dim=1)\n",
    "        combined_features = self.fc_final(combined_features)\n",
    "\n",
    "        outputs = [classifier(combined_features) for classifier in self.classifiers]\n",
    "        return torch.stack(outputs, dim=1)"
   ]
  },
  {
   "cell_type": "markdown",
   "id": "7b5848b1-ef44-43c3-a025-800e0df2fb92",
   "metadata": {},
   "source": [
    "## Model 5: Early Fusion (CONCAT)"
   ]
  },
  {
   "cell_type": "code",
   "execution_count": 10,
   "id": "bb9223e3-368b-4740-911b-ac9f73974e0a",
   "metadata": {},
   "outputs": [],
   "source": [
    "class EarlyFusionCONCAT_MM_Resnet18(nn.Module):\n",
    "    def __init__(self):\n",
    "        super(EarlyFusionCONCAT_MM_Resnet18, self).__init__()\n",
    "        self.resnet18 = models.resnet18(weights='DEFAULT')\n",
    "        self.resnet18.conv1 = nn.Conv2d(6, 64, kernel_size=7, stride=2, padding=3, bias=False) # To accomodate concat early fusion\n",
    "        num_image_features = self.resnet18.fc.in_features\n",
    "        self.resnet18.fc = nn.Identity()\n",
    "        self.fc_image = nn.Linear(num_image_features, 512)  # Fusion layer for image features\n",
    "        self.fc_tabular = nn.Linear(2, 64)  # Fusion layer for tabular features\n",
    "        self.fc_final = nn.Linear(512 + 64, 512)  # Fusion layer for combined features\n",
    "        self.classifiers = nn.ModuleList([nn.Linear(512, 2) for _ in range(8)])  # 8 classifiers for multi-label classification\n",
    "        \n",
    "    def forward(self, left, right, age_gender):\n",
    "        fused_input = torch.cat((left, right), dim=1) \n",
    "        fused_image_features = self.resnet18(fused_input)\n",
    "        fused_image_features = self.fc_image(fused_image_features)\n",
    "\n",
    "        # tabular features\n",
    "        tabular_features = self.fc_tabular(age_gender)\n",
    "\n",
    "        # Concatenate image and tabular features\n",
    "        combined_features = torch.cat((fused_image_features, tabular_features), dim=1)\n",
    "        combined_features = self.fc_final(combined_features)\n",
    "\n",
    "        outputs = [classifier(combined_features) for classifier in self.classifiers]\n",
    "        return torch.stack(outputs, dim=1)\n"
   ]
  },
  {
   "cell_type": "markdown",
   "id": "06f1e767-7900-4a6a-9a82-7d4e353679a0",
   "metadata": {},
   "source": [
    "## Model 6: Early Fusion (PROD)"
   ]
  },
  {
   "cell_type": "code",
   "execution_count": 11,
   "id": "0a3e0ec8-2ddb-4e76-bc9e-d85645bb875c",
   "metadata": {},
   "outputs": [],
   "source": [
    "class EarlyFusionPROD_MM_Resnet18(nn.Module):\n",
    "    def __init__(self):\n",
    "        super(EarlyFusionPROD_MM_Resnet18, self).__init__()\n",
    "        self.resnet18 = models.resnet18(weights='DEFAULT')\n",
    "        num_image_features = self.resnet18.fc.in_features\n",
    "        self.resnet18.fc = nn.Identity()  # Remove the fully connected layer\n",
    "        self.fc_image = nn.Linear(num_image_features, 512)  # Fusion layer for image features\n",
    "        self.fc_tabular = nn.Linear(2, 64)  # Fusion layer for tabular features\n",
    "        self.fc_final = nn.Linear(512 + 64, 512)  # Fusion layer for combined features\n",
    "        self.classifiers = nn.ModuleList([nn.Linear(512, 2) for _ in range(8)])  # 8 classifiers for multi-label classification\n",
    "        \n",
    "    def forward(self, left, right, age_gender):\n",
    "        fused_input = left * right # Element-wise product\n",
    "        fused_image_features = self.resnet18(fused_input)\n",
    "        fused_image_features = self.fc_image(fused_image_features)\n",
    "        \n",
    "        # tabular features\n",
    "        tabular_features = self.fc_tabular(age_gender)\n",
    "\n",
    "        # Concatenate image and tabular features\n",
    "        combined_features = torch.cat((fused_image_features, tabular_features), dim=1)\n",
    "        combined_features = self.fc_final(combined_features)\n",
    "\n",
    "        outputs = [classifier(combined_features) for classifier in self.classifiers]\n",
    "        return torch.stack(outputs, dim=1)"
   ]
  },
  {
   "cell_type": "markdown",
   "id": "2f75e3fe-da9f-4564-ad4c-6a2f115ded33",
   "metadata": {},
   "source": [
    "## Training Loop"
   ]
  },
  {
   "cell_type": "code",
   "execution_count": 12,
   "id": "fec019fb-034a-484f-ac31-d8bd279c8d0c",
   "metadata": {},
   "outputs": [],
   "source": [
    "torch.manual_seed(42)\n",
    "np.random.seed(42)\n",
    "\n",
    "def train_model(model, dataloader, optimizer, criterion, num_epochs=10, verbose=True, save_path=None):\n",
    "    acc_dict = {'train':[],'validate':[],'test':[]}\n",
    "    loss_dict = {'train':[],'validate':[],'test':[]}\n",
    "    kappa_dict = {'validate': [],'test':[]}\n",
    "    f1_dict = {'validate': [],'test':[]}\n",
    "    auc_dict = {'validate': [],'test':[]}\n",
    "    best_loss = float('inf')\n",
    "    best_f1 = 0\n",
    "    best_kappa = 0\n",
    "    best_auc = 0\n",
    "    phases = ['train','validate','test']\n",
    "    since = time.time()\n",
    "    for i in range(num_epochs):\n",
    "        epoch_since = time.time()\n",
    "        print('-'*10)\n",
    "        print('Epoch: {}/{}'.format(i+1, num_epochs))\n",
    "        print('-'*10)\n",
    "        for p in phases:\n",
    "            running_correct = 0\n",
    "            running_loss = 0\n",
    "            running_total = 0\n",
    "            if p == 'train':\n",
    "                model.train()\n",
    "            else:\n",
    "                model.eval()\n",
    "            all_probabilities_pos = []\n",
    "            all_predictions = []\n",
    "            all_labels = []\n",
    "            all_labels_pos = []\n",
    "                \n",
    "            for data in dataloader[p]:\n",
    "                optimizer.zero_grad()\n",
    "                left_images = data['left_image'].to(device)\n",
    "                right_images = data['right_image'].to(device)\n",
    "                age_gender = data['age_gender'].to(device)\n",
    "                labels = data['class'].to(device)\n",
    "                outputs = model(left_images, right_images, age_gender)\n",
    "                num_classifiers = outputs.size(1)\n",
    "                classifier_losses = []\n",
    "                epoch_loss = 0 \n",
    "                for i in range(num_classifiers):\n",
    "                    classifier_outputs = outputs[:, i, :]\n",
    "                    classifier_labels = labels[:, i, :].squeeze(dim=1)  # Squeeze extra dimension\n",
    "                    classifier_loss = criterion(classifier_outputs, classifier_labels.float())\n",
    "                    classifier_losses.append(classifier_loss)\n",
    "                \n",
    "                loss = sum(classifier_losses)\n",
    "                epoch_loss += loss.item()\n",
    "                \n",
    "                probabilities = torch.sigmoid(outputs)\n",
    "                probabilities_pos = probabilities[:, 1]\n",
    "                \n",
    "                labels_pos = labels[:, 1]\n",
    "                \n",
    "                predictions = (probabilities > 0.5).int()\n",
    "                \n",
    "                all_probabilities_pos.extend(probabilities_pos.cpu().detach().numpy())\n",
    "                all_predictions.extend(predictions.cpu().numpy())\n",
    "                all_labels.extend(labels.cpu().numpy())\n",
    "                all_labels_pos.extend(labels_pos.cpu().numpy())\n",
    "                \n",
    "                running_correct += torch.sum(predictions == labels).item()\n",
    "                running_loss += loss.item()\n",
    "                running_total += labels.size(0)\n",
    "                if p== 'train':\n",
    "                    loss.backward()\n",
    "                    optimizer.step()\n",
    "                \n",
    "            epoch_acc = float(running_correct/running_total)\n",
    "            epoch_loss = float(running_loss/running_total)\n",
    "            if verbose or (i%10 == 0):\n",
    "                print('Phase:{}, epoch loss: {:.4f}'.format(p, epoch_loss))\n",
    "            acc_dict[p].append(epoch_acc)\n",
    "            loss_dict[p].append(epoch_loss)\n",
    "            if p == 'validate':\n",
    "                all_labels_flat = np.concatenate(all_labels).flatten()\n",
    "                all_predictions_flat = np.concatenate(all_predictions).flatten()\n",
    "                all_labels_pos_flat = np.concatenate(all_labels_pos).flatten()\n",
    "                all_probabilities_pos_flat = np.concatenate(all_probabilities_pos).flatten()\n",
    "                \n",
    "                kappa = cohen_kappa_score(all_labels_flat, all_predictions_flat)\n",
    "                f1 = f1_score(all_labels_flat, all_predictions_flat, average='macro')\n",
    "                auc = roc_auc_score(all_labels_pos, all_probabilities_pos)\n",
    "                \n",
    "                print('Kappa: {:.4f} F1: {:.4f} AUC: {:.4f}'.format(kappa, f1, auc))\n",
    "                \n",
    "                kappa_dict[p].append(kappa)\n",
    "                f1_dict[p].append(f1)\n",
    "                auc_dict[p].append(auc)\n",
    "                \n",
    "                if f1 > best_f1:\n",
    "                    best_f1 = f1\n",
    "                    best_model_wts = deepcopy(model.state_dict())\n",
    "                    best_epoch = i+1\n",
    "                    best_kappa = kappa\n",
    "                    best_auc = auc\n",
    "                    \n",
    "            if p == 'test':\n",
    "                all_labels_flat = np.concatenate(all_labels).flatten()\n",
    "                all_predictions_flat = np.concatenate(all_predictions).flatten()\n",
    "                all_labels_pos_flat = np.concatenate(all_labels_pos).flatten()\n",
    "                all_probabilities_pos_flat = np.concatenate(all_probabilities_pos).flatten()\n",
    "                \n",
    "                kappa = cohen_kappa_score(all_labels_flat, all_predictions_flat)\n",
    "                f1 = f1_score(all_labels_flat, all_predictions_flat, average='macro')\n",
    "                auc = roc_auc_score(all_labels_pos, all_probabilities_pos)\n",
    "                \n",
    "                print('Kappa: {:.4f} F1: {:.4f} AUC: {:.4f}'.format(kappa, f1, auc))\n",
    "                \n",
    "                kappa_dict[p].append(kappa)\n",
    "                f1_dict[p].append(f1)\n",
    "                auc_dict[p].append(auc)\n",
    "                    \n",
    "        if save_path:\n",
    "            torch.save(best_model_wts, save_path.format(round(best_f1, 4)))\n",
    "        epoch_time_elapsed = time.time() - epoch_since\n",
    "        print('Epoch complete in {:.0f}m {:.0f}s'.format(epoch_time_elapsed // 60, epoch_time_elapsed % 60))\n",
    "        \n",
    "    time_elapsed = time.time() - since\n",
    "    print('-'*10)\n",
    "    print('Training complete in {:.0f}m {:.0f}s'.format(time_elapsed // 60, time_elapsed % 60))\n",
    "    print('Best Val F1: {:4f} at Epoch {}'.format(best_f1, best_epoch))\n",
    "    print('Corresponding Kappa: {:4f} and AUC: {:4f}'.format(best_kappa, best_auc))\n",
    "\n",
    "    return acc_dict, loss_dict, kappa_dict, f1_dict, auc_dict"
   ]
  },
  {
   "cell_type": "code",
   "execution_count": 13,
   "id": "e4878045-a5ef-4fd7-beb4-ba31225be615",
   "metadata": {},
   "outputs": [],
   "source": [
    "bs = 16\n",
    "lr = 0.00001\n",
    "\n",
    "# Load data for left and right fundus\n",
    "dataloader = {x: DataLoader(transformed_dataset[x], batch_size=bs, shuffle=True) for x in ['train', 'validate','test']}"
   ]
  },
  {
   "cell_type": "code",
   "execution_count": 14,
   "id": "57d7516c-43d0-4bb2-8963-8a59b4e98cdc",
   "metadata": {
    "scrolled": true
   },
   "outputs": [
    {
     "name": "stdout",
     "output_type": "stream",
     "text": [
      "----------\n",
      "Epoch: 1/10\n",
      "----------\n"
     ]
    },
    {
     "name": "stderr",
     "output_type": "stream",
     "text": [
      "/state/partition1/job-45816670/ipykernel_3107421/3600892822.py:40: FutureWarning: Series.__getitem__ treating keys as positions is deprecated. In a future version, integer keys will always be treated as labels (consistent with DataFrame behavior). To access a value by position, use `ser.iloc[pos]`\n",
      "  age_gender = torch.tensor(age_gender, dtype=torch.float32)\n"
     ]
    },
    {
     "name": "stdout",
     "output_type": "stream",
     "text": [
      "Phase:train, epoch loss: 0.2856\n",
      "Phase:validate, epoch loss: 0.1665\n",
      "Kappa: 0.7119 F1: 0.8559 AUC: 0.7008\n"
     ]
    },
    {
     "name": "stderr",
     "output_type": "stream",
     "text": [
      "/state/partition1/job-45816670/ipykernel_3107421/3600892822.py:40: FutureWarning: Series.__getitem__ treating keys as positions is deprecated. In a future version, integer keys will always be treated as labels (consistent with DataFrame behavior). To access a value by position, use `ser.iloc[pos]`\n",
      "  age_gender = torch.tensor(age_gender, dtype=torch.float32)\n"
     ]
    },
    {
     "name": "stdout",
     "output_type": "stream",
     "text": [
      "Phase:test, epoch loss: 0.1676\n",
      "Kappa: 0.7109 F1: 0.8555 AUC: 0.6743\n",
      "Epoch complete in 12m 5s\n",
      "----------\n",
      "Epoch: 2/10\n",
      "----------\n"
     ]
    },
    {
     "name": "stderr",
     "output_type": "stream",
     "text": [
      "/state/partition1/job-45816670/ipykernel_3107421/3600892822.py:40: FutureWarning: Series.__getitem__ treating keys as positions is deprecated. In a future version, integer keys will always be treated as labels (consistent with DataFrame behavior). To access a value by position, use `ser.iloc[pos]`\n",
      "  age_gender = torch.tensor(age_gender, dtype=torch.float32)\n"
     ]
    },
    {
     "name": "stdout",
     "output_type": "stream",
     "text": [
      "Phase:train, epoch loss: 0.1546\n",
      "Phase:validate, epoch loss: 0.1566\n",
      "Kappa: 0.7275 F1: 0.8638 AUC: 0.7501\n"
     ]
    },
    {
     "name": "stderr",
     "output_type": "stream",
     "text": [
      "/state/partition1/job-45816670/ipykernel_3107421/3600892822.py:40: FutureWarning: Series.__getitem__ treating keys as positions is deprecated. In a future version, integer keys will always be treated as labels (consistent with DataFrame behavior). To access a value by position, use `ser.iloc[pos]`\n",
      "  age_gender = torch.tensor(age_gender, dtype=torch.float32)\n"
     ]
    },
    {
     "name": "stdout",
     "output_type": "stream",
     "text": [
      "Phase:test, epoch loss: 0.1590\n",
      "Kappa: 0.7185 F1: 0.8592 AUC: 0.7077\n",
      "Epoch complete in 10m 32s\n",
      "----------\n",
      "Epoch: 3/10\n",
      "----------\n"
     ]
    },
    {
     "name": "stderr",
     "output_type": "stream",
     "text": [
      "/state/partition1/job-45816670/ipykernel_3107421/3600892822.py:40: FutureWarning: Series.__getitem__ treating keys as positions is deprecated. In a future version, integer keys will always be treated as labels (consistent with DataFrame behavior). To access a value by position, use `ser.iloc[pos]`\n",
      "  age_gender = torch.tensor(age_gender, dtype=torch.float32)\n"
     ]
    },
    {
     "name": "stdout",
     "output_type": "stream",
     "text": [
      "Phase:train, epoch loss: 0.1438\n",
      "Phase:validate, epoch loss: 0.1538\n",
      "Kappa: 0.7308 F1: 0.8654 AUC: 0.7641\n"
     ]
    },
    {
     "name": "stderr",
     "output_type": "stream",
     "text": [
      "/state/partition1/job-45816670/ipykernel_3107421/3600892822.py:40: FutureWarning: Series.__getitem__ treating keys as positions is deprecated. In a future version, integer keys will always be treated as labels (consistent with DataFrame behavior). To access a value by position, use `ser.iloc[pos]`\n",
      "  age_gender = torch.tensor(age_gender, dtype=torch.float32)\n"
     ]
    },
    {
     "name": "stdout",
     "output_type": "stream",
     "text": [
      "Phase:test, epoch loss: 0.1575\n",
      "Kappa: 0.7196 F1: 0.8598 AUC: 0.7227\n",
      "Epoch complete in 9m 42s\n",
      "----------\n",
      "Epoch: 4/10\n",
      "----------\n"
     ]
    },
    {
     "name": "stderr",
     "output_type": "stream",
     "text": [
      "/state/partition1/job-45816670/ipykernel_3107421/3600892822.py:40: FutureWarning: Series.__getitem__ treating keys as positions is deprecated. In a future version, integer keys will always be treated as labels (consistent with DataFrame behavior). To access a value by position, use `ser.iloc[pos]`\n",
      "  age_gender = torch.tensor(age_gender, dtype=torch.float32)\n"
     ]
    },
    {
     "name": "stdout",
     "output_type": "stream",
     "text": [
      "Phase:train, epoch loss: 0.1344\n",
      "Phase:validate, epoch loss: 0.1521\n",
      "Kappa: 0.7343 F1: 0.8672 AUC: 0.7751\n"
     ]
    },
    {
     "name": "stderr",
     "output_type": "stream",
     "text": [
      "/state/partition1/job-45816670/ipykernel_3107421/3600892822.py:40: FutureWarning: Series.__getitem__ treating keys as positions is deprecated. In a future version, integer keys will always be treated as labels (consistent with DataFrame behavior). To access a value by position, use `ser.iloc[pos]`\n",
      "  age_gender = torch.tensor(age_gender, dtype=torch.float32)\n"
     ]
    },
    {
     "name": "stdout",
     "output_type": "stream",
     "text": [
      "Phase:test, epoch loss: 0.1556\n",
      "Kappa: 0.7258 F1: 0.8629 AUC: 0.7337\n",
      "Epoch complete in 11m 13s\n",
      "----------\n",
      "Epoch: 5/10\n",
      "----------\n"
     ]
    },
    {
     "name": "stderr",
     "output_type": "stream",
     "text": [
      "/state/partition1/job-45816670/ipykernel_3107421/3600892822.py:40: FutureWarning: Series.__getitem__ treating keys as positions is deprecated. In a future version, integer keys will always be treated as labels (consistent with DataFrame behavior). To access a value by position, use `ser.iloc[pos]`\n",
      "  age_gender = torch.tensor(age_gender, dtype=torch.float32)\n"
     ]
    },
    {
     "name": "stdout",
     "output_type": "stream",
     "text": [
      "Phase:train, epoch loss: 0.1252\n",
      "Phase:validate, epoch loss: 0.1529\n",
      "Kappa: 0.7263 F1: 0.8631 AUC: 0.7783\n"
     ]
    },
    {
     "name": "stderr",
     "output_type": "stream",
     "text": [
      "/state/partition1/job-45816670/ipykernel_3107421/3600892822.py:40: FutureWarning: Series.__getitem__ treating keys as positions is deprecated. In a future version, integer keys will always be treated as labels (consistent with DataFrame behavior). To access a value by position, use `ser.iloc[pos]`\n",
      "  age_gender = torch.tensor(age_gender, dtype=torch.float32)\n"
     ]
    },
    {
     "name": "stdout",
     "output_type": "stream",
     "text": [
      "Phase:test, epoch loss: 0.1559\n",
      "Kappa: 0.7211 F1: 0.8606 AUC: 0.7347\n",
      "Epoch complete in 10m 35s\n",
      "----------\n",
      "Epoch: 6/10\n",
      "----------\n"
     ]
    },
    {
     "name": "stderr",
     "output_type": "stream",
     "text": [
      "/state/partition1/job-45816670/ipykernel_3107421/3600892822.py:40: FutureWarning: Series.__getitem__ treating keys as positions is deprecated. In a future version, integer keys will always be treated as labels (consistent with DataFrame behavior). To access a value by position, use `ser.iloc[pos]`\n",
      "  age_gender = torch.tensor(age_gender, dtype=torch.float32)\n"
     ]
    },
    {
     "name": "stdout",
     "output_type": "stream",
     "text": [
      "Phase:train, epoch loss: 0.1149\n",
      "Phase:validate, epoch loss: 0.1607\n",
      "Kappa: 0.7194 F1: 0.8597 AUC: 0.7690\n"
     ]
    },
    {
     "name": "stderr",
     "output_type": "stream",
     "text": [
      "/state/partition1/job-45816670/ipykernel_3107421/3600892822.py:40: FutureWarning: Series.__getitem__ treating keys as positions is deprecated. In a future version, integer keys will always be treated as labels (consistent with DataFrame behavior). To access a value by position, use `ser.iloc[pos]`\n",
      "  age_gender = torch.tensor(age_gender, dtype=torch.float32)\n"
     ]
    },
    {
     "name": "stdout",
     "output_type": "stream",
     "text": [
      "Phase:test, epoch loss: 0.1601\n",
      "Kappa: 0.7240 F1: 0.8620 AUC: 0.7321\n",
      "Epoch complete in 9m 9s\n",
      "----------\n",
      "Epoch: 7/10\n",
      "----------\n"
     ]
    },
    {
     "name": "stderr",
     "output_type": "stream",
     "text": [
      "/state/partition1/job-45816670/ipykernel_3107421/3600892822.py:40: FutureWarning: Series.__getitem__ treating keys as positions is deprecated. In a future version, integer keys will always be treated as labels (consistent with DataFrame behavior). To access a value by position, use `ser.iloc[pos]`\n",
      "  age_gender = torch.tensor(age_gender, dtype=torch.float32)\n"
     ]
    },
    {
     "name": "stdout",
     "output_type": "stream",
     "text": [
      "Phase:train, epoch loss: 0.1052\n",
      "Phase:validate, epoch loss: 0.1705\n",
      "Kappa: 0.7237 F1: 0.8619 AUC: 0.7565\n"
     ]
    },
    {
     "name": "stderr",
     "output_type": "stream",
     "text": [
      "/state/partition1/job-45816670/ipykernel_3107421/3600892822.py:40: FutureWarning: Series.__getitem__ treating keys as positions is deprecated. In a future version, integer keys will always be treated as labels (consistent with DataFrame behavior). To access a value by position, use `ser.iloc[pos]`\n",
      "  age_gender = torch.tensor(age_gender, dtype=torch.float32)\n"
     ]
    },
    {
     "name": "stdout",
     "output_type": "stream",
     "text": [
      "Phase:test, epoch loss: 0.1769\n",
      "Kappa: 0.7121 F1: 0.8560 AUC: 0.7265\n",
      "Epoch complete in 10m 3s\n",
      "----------\n",
      "Epoch: 8/10\n",
      "----------\n"
     ]
    },
    {
     "name": "stderr",
     "output_type": "stream",
     "text": [
      "/state/partition1/job-45816670/ipykernel_3107421/3600892822.py:40: FutureWarning: Series.__getitem__ treating keys as positions is deprecated. In a future version, integer keys will always be treated as labels (consistent with DataFrame behavior). To access a value by position, use `ser.iloc[pos]`\n",
      "  age_gender = torch.tensor(age_gender, dtype=torch.float32)\n"
     ]
    },
    {
     "name": "stdout",
     "output_type": "stream",
     "text": [
      "Phase:train, epoch loss: 0.0911\n",
      "Phase:validate, epoch loss: 0.1742\n",
      "Kappa: 0.7240 F1: 0.8620 AUC: 0.7587\n"
     ]
    },
    {
     "name": "stderr",
     "output_type": "stream",
     "text": [
      "/state/partition1/job-45816670/ipykernel_3107421/3600892822.py:40: FutureWarning: Series.__getitem__ treating keys as positions is deprecated. In a future version, integer keys will always be treated as labels (consistent with DataFrame behavior). To access a value by position, use `ser.iloc[pos]`\n",
      "  age_gender = torch.tensor(age_gender, dtype=torch.float32)\n"
     ]
    },
    {
     "name": "stdout",
     "output_type": "stream",
     "text": [
      "Phase:test, epoch loss: 0.1761\n",
      "Kappa: 0.7109 F1: 0.8555 AUC: 0.7243\n",
      "Epoch complete in 11m 46s\n",
      "----------\n",
      "Epoch: 9/10\n",
      "----------\n"
     ]
    },
    {
     "name": "stderr",
     "output_type": "stream",
     "text": [
      "/state/partition1/job-45816670/ipykernel_3107421/3600892822.py:40: FutureWarning: Series.__getitem__ treating keys as positions is deprecated. In a future version, integer keys will always be treated as labels (consistent with DataFrame behavior). To access a value by position, use `ser.iloc[pos]`\n",
      "  age_gender = torch.tensor(age_gender, dtype=torch.float32)\n"
     ]
    },
    {
     "name": "stdout",
     "output_type": "stream",
     "text": [
      "Phase:train, epoch loss: 0.0799\n",
      "Phase:validate, epoch loss: 0.1861\n",
      "Kappa: 0.7152 F1: 0.8576 AUC: 0.7347\n"
     ]
    },
    {
     "name": "stderr",
     "output_type": "stream",
     "text": [
      "/state/partition1/job-45816670/ipykernel_3107421/3600892822.py:40: FutureWarning: Series.__getitem__ treating keys as positions is deprecated. In a future version, integer keys will always be treated as labels (consistent with DataFrame behavior). To access a value by position, use `ser.iloc[pos]`\n",
      "  age_gender = torch.tensor(age_gender, dtype=torch.float32)\n"
     ]
    },
    {
     "name": "stdout",
     "output_type": "stream",
     "text": [
      "Phase:test, epoch loss: 0.1809\n",
      "Kappa: 0.7191 F1: 0.8596 AUC: 0.7158\n",
      "Epoch complete in 12m 37s\n",
      "----------\n",
      "Epoch: 10/10\n",
      "----------\n"
     ]
    },
    {
     "name": "stderr",
     "output_type": "stream",
     "text": [
      "/state/partition1/job-45816670/ipykernel_3107421/3600892822.py:40: FutureWarning: Series.__getitem__ treating keys as positions is deprecated. In a future version, integer keys will always be treated as labels (consistent with DataFrame behavior). To access a value by position, use `ser.iloc[pos]`\n",
      "  age_gender = torch.tensor(age_gender, dtype=torch.float32)\n"
     ]
    },
    {
     "name": "stdout",
     "output_type": "stream",
     "text": [
      "Phase:train, epoch loss: 0.0692\n",
      "Phase:validate, epoch loss: 0.1950\n",
      "Kappa: 0.7141 F1: 0.8571 AUC: 0.7429\n"
     ]
    },
    {
     "name": "stderr",
     "output_type": "stream",
     "text": [
      "/state/partition1/job-45816670/ipykernel_3107421/3600892822.py:40: FutureWarning: Series.__getitem__ treating keys as positions is deprecated. In a future version, integer keys will always be treated as labels (consistent with DataFrame behavior). To access a value by position, use `ser.iloc[pos]`\n",
      "  age_gender = torch.tensor(age_gender, dtype=torch.float32)\n"
     ]
    },
    {
     "name": "stdout",
     "output_type": "stream",
     "text": [
      "Phase:test, epoch loss: 0.1865\n",
      "Kappa: 0.7150 F1: 0.8575 AUC: 0.7047\n",
      "Epoch complete in 11m 21s\n",
      "----------\n",
      "Training complete in 109m 4s\n",
      "Best Val F1: 0.867172 at Epoch 8\n",
      "Corresponding Kappa: 0.734343 and AUC: 0.775131\n"
     ]
    }
   ],
   "source": [
    "lfs_model = LateFusionSUM_MM_Resnet18()\n",
    "lfs_model.to(device)\n",
    "save_path = \"./saved_models/bs_16_lr_1e-05/LFS_MM_F1_{}.pt\"\n",
    "file_path = \"./saved_results/bs_16_lr_1e-05/LFS_MM_results.pkl\"\n",
    "criterion = nn.BCEWithLogitsLoss()\n",
    "optimizer = torch.optim.Adam(lfs_model.parameters(), lr=lr)\n",
    "lfs_results = []\n",
    "acc_dict, loss_dict, kappa_dict, f1_dict, auc_dict = train_model(lfs_model, dataloader, optimizer, criterion, num_epochs=10, save_path=save_path)\n",
    "lfs_results.append((acc_dict, loss_dict, kappa_dict, f1_dict, auc_dict))\n",
    "with open(file_path, 'wb') as file:\n",
    "    pickle.dump(lfs_results, file)"
   ]
  },
  {
   "cell_type": "code",
   "execution_count": 14,
   "id": "8df25397-9a50-486b-91cd-49097eb6624d",
   "metadata": {
    "scrolled": true
   },
   "outputs": [
    {
     "name": "stdout",
     "output_type": "stream",
     "text": [
      "----------\n",
      "Epoch: 1/10\n",
      "----------\n"
     ]
    },
    {
     "name": "stderr",
     "output_type": "stream",
     "text": [
      "/state/partition1/job-45816668/ipykernel_1079633/3600892822.py:40: FutureWarning: Series.__getitem__ treating keys as positions is deprecated. In a future version, integer keys will always be treated as labels (consistent with DataFrame behavior). To access a value by position, use `ser.iloc[pos]`\n",
      "  age_gender = torch.tensor(age_gender, dtype=torch.float32)\n"
     ]
    },
    {
     "name": "stdout",
     "output_type": "stream",
     "text": [
      "Phase:train, epoch loss: 0.2113\n",
      "Phase:validate, epoch loss: 0.1697\n",
      "Kappa: 0.7109 F1: 0.8554 AUC: 0.6596\n"
     ]
    },
    {
     "name": "stderr",
     "output_type": "stream",
     "text": [
      "/state/partition1/job-45816668/ipykernel_1079633/3600892822.py:40: FutureWarning: Series.__getitem__ treating keys as positions is deprecated. In a future version, integer keys will always be treated as labels (consistent with DataFrame behavior). To access a value by position, use `ser.iloc[pos]`\n",
      "  age_gender = torch.tensor(age_gender, dtype=torch.float32)\n"
     ]
    },
    {
     "name": "stdout",
     "output_type": "stream",
     "text": [
      "Phase:test, epoch loss: 0.1693\n",
      "Kappa: 0.7092 F1: 0.8546 AUC: 0.6478\n",
      "Epoch complete in 11m 4s\n",
      "----------\n",
      "Epoch: 2/10\n",
      "----------\n"
     ]
    },
    {
     "name": "stderr",
     "output_type": "stream",
     "text": [
      "/state/partition1/job-45816668/ipykernel_1079633/3600892822.py:40: FutureWarning: Series.__getitem__ treating keys as positions is deprecated. In a future version, integer keys will always be treated as labels (consistent with DataFrame behavior). To access a value by position, use `ser.iloc[pos]`\n",
      "  age_gender = torch.tensor(age_gender, dtype=torch.float32)\n"
     ]
    },
    {
     "name": "stdout",
     "output_type": "stream",
     "text": [
      "Phase:train, epoch loss: 0.1610\n",
      "Phase:validate, epoch loss: 0.1599\n",
      "Kappa: 0.7177 F1: 0.8588 AUC: 0.7115\n"
     ]
    },
    {
     "name": "stderr",
     "output_type": "stream",
     "text": [
      "/state/partition1/job-45816668/ipykernel_1079633/3600892822.py:40: FutureWarning: Series.__getitem__ treating keys as positions is deprecated. In a future version, integer keys will always be treated as labels (consistent with DataFrame behavior). To access a value by position, use `ser.iloc[pos]`\n",
      "  age_gender = torch.tensor(age_gender, dtype=torch.float32)\n"
     ]
    },
    {
     "name": "stdout",
     "output_type": "stream",
     "text": [
      "Phase:test, epoch loss: 0.1595\n",
      "Kappa: 0.7169 F1: 0.8584 AUC: 0.6777\n",
      "Epoch complete in 8m 57s\n",
      "----------\n",
      "Epoch: 3/10\n",
      "----------\n"
     ]
    },
    {
     "name": "stderr",
     "output_type": "stream",
     "text": [
      "/state/partition1/job-45816668/ipykernel_1079633/3600892822.py:40: FutureWarning: Series.__getitem__ treating keys as positions is deprecated. In a future version, integer keys will always be treated as labels (consistent with DataFrame behavior). To access a value by position, use `ser.iloc[pos]`\n",
      "  age_gender = torch.tensor(age_gender, dtype=torch.float32)\n"
     ]
    },
    {
     "name": "stdout",
     "output_type": "stream",
     "text": [
      "Phase:train, epoch loss: 0.1491\n",
      "Phase:validate, epoch loss: 0.1523\n",
      "Kappa: 0.7341 F1: 0.8670 AUC: 0.7526\n"
     ]
    },
    {
     "name": "stderr",
     "output_type": "stream",
     "text": [
      "/state/partition1/job-45816668/ipykernel_1079633/3600892822.py:40: FutureWarning: Series.__getitem__ treating keys as positions is deprecated. In a future version, integer keys will always be treated as labels (consistent with DataFrame behavior). To access a value by position, use `ser.iloc[pos]`\n",
      "  age_gender = torch.tensor(age_gender, dtype=torch.float32)\n"
     ]
    },
    {
     "name": "stdout",
     "output_type": "stream",
     "text": [
      "Phase:test, epoch loss: 0.1525\n",
      "Kappa: 0.7208 F1: 0.8604 AUC: 0.7140\n",
      "Epoch complete in 8m 60s\n",
      "----------\n",
      "Epoch: 4/10\n",
      "----------\n"
     ]
    },
    {
     "name": "stderr",
     "output_type": "stream",
     "text": [
      "/state/partition1/job-45816668/ipykernel_1079633/3600892822.py:40: FutureWarning: Series.__getitem__ treating keys as positions is deprecated. In a future version, integer keys will always be treated as labels (consistent with DataFrame behavior). To access a value by position, use `ser.iloc[pos]`\n",
      "  age_gender = torch.tensor(age_gender, dtype=torch.float32)\n"
     ]
    },
    {
     "name": "stdout",
     "output_type": "stream",
     "text": [
      "Phase:train, epoch loss: 0.1387\n",
      "Phase:validate, epoch loss: 0.1521\n",
      "Kappa: 0.7316 F1: 0.8658 AUC: 0.7564\n"
     ]
    },
    {
     "name": "stderr",
     "output_type": "stream",
     "text": [
      "/state/partition1/job-45816668/ipykernel_1079633/3600892822.py:40: FutureWarning: Series.__getitem__ treating keys as positions is deprecated. In a future version, integer keys will always be treated as labels (consistent with DataFrame behavior). To access a value by position, use `ser.iloc[pos]`\n",
      "  age_gender = torch.tensor(age_gender, dtype=torch.float32)\n"
     ]
    },
    {
     "name": "stdout",
     "output_type": "stream",
     "text": [
      "Phase:test, epoch loss: 0.1526\n",
      "Kappa: 0.7268 F1: 0.8634 AUC: 0.7243\n",
      "Epoch complete in 8m 48s\n",
      "----------\n",
      "Epoch: 5/10\n",
      "----------\n"
     ]
    },
    {
     "name": "stderr",
     "output_type": "stream",
     "text": [
      "/state/partition1/job-45816668/ipykernel_1079633/3600892822.py:40: FutureWarning: Series.__getitem__ treating keys as positions is deprecated. In a future version, integer keys will always be treated as labels (consistent with DataFrame behavior). To access a value by position, use `ser.iloc[pos]`\n",
      "  age_gender = torch.tensor(age_gender, dtype=torch.float32)\n"
     ]
    },
    {
     "name": "stdout",
     "output_type": "stream",
     "text": [
      "Phase:train, epoch loss: 0.1276\n",
      "Phase:validate, epoch loss: 0.1565\n",
      "Kappa: 0.7207 F1: 0.8604 AUC: 0.7619\n"
     ]
    },
    {
     "name": "stderr",
     "output_type": "stream",
     "text": [
      "/state/partition1/job-45816668/ipykernel_1079633/3600892822.py:40: FutureWarning: Series.__getitem__ treating keys as positions is deprecated. In a future version, integer keys will always be treated as labels (consistent with DataFrame behavior). To access a value by position, use `ser.iloc[pos]`\n",
      "  age_gender = torch.tensor(age_gender, dtype=torch.float32)\n"
     ]
    },
    {
     "name": "stdout",
     "output_type": "stream",
     "text": [
      "Phase:test, epoch loss: 0.1582\n",
      "Kappa: 0.7211 F1: 0.8606 AUC: 0.7305\n",
      "Epoch complete in 10m 2s\n",
      "----------\n",
      "Epoch: 6/10\n",
      "----------\n"
     ]
    },
    {
     "name": "stderr",
     "output_type": "stream",
     "text": [
      "/state/partition1/job-45816668/ipykernel_1079633/3600892822.py:40: FutureWarning: Series.__getitem__ treating keys as positions is deprecated. In a future version, integer keys will always be treated as labels (consistent with DataFrame behavior). To access a value by position, use `ser.iloc[pos]`\n",
      "  age_gender = torch.tensor(age_gender, dtype=torch.float32)\n"
     ]
    },
    {
     "name": "stdout",
     "output_type": "stream",
     "text": [
      "Phase:train, epoch loss: 0.1171\n",
      "Phase:validate, epoch loss: 0.1571\n",
      "Kappa: 0.7235 F1: 0.8617 AUC: 0.7629\n"
     ]
    },
    {
     "name": "stderr",
     "output_type": "stream",
     "text": [
      "/state/partition1/job-45816668/ipykernel_1079633/3600892822.py:40: FutureWarning: Series.__getitem__ treating keys as positions is deprecated. In a future version, integer keys will always be treated as labels (consistent with DataFrame behavior). To access a value by position, use `ser.iloc[pos]`\n",
      "  age_gender = torch.tensor(age_gender, dtype=torch.float32)\n"
     ]
    },
    {
     "name": "stdout",
     "output_type": "stream",
     "text": [
      "Phase:test, epoch loss: 0.1577\n",
      "Kappa: 0.7269 F1: 0.8635 AUC: 0.7268\n",
      "Epoch complete in 9m 25s\n",
      "----------\n",
      "Epoch: 7/10\n",
      "----------\n"
     ]
    },
    {
     "name": "stderr",
     "output_type": "stream",
     "text": [
      "/state/partition1/job-45816668/ipykernel_1079633/3600892822.py:40: FutureWarning: Series.__getitem__ treating keys as positions is deprecated. In a future version, integer keys will always be treated as labels (consistent with DataFrame behavior). To access a value by position, use `ser.iloc[pos]`\n",
      "  age_gender = torch.tensor(age_gender, dtype=torch.float32)\n"
     ]
    },
    {
     "name": "stdout",
     "output_type": "stream",
     "text": [
      "Phase:train, epoch loss: 0.1047\n",
      "Phase:validate, epoch loss: 0.1637\n",
      "Kappa: 0.7197 F1: 0.8598 AUC: 0.7598\n"
     ]
    },
    {
     "name": "stderr",
     "output_type": "stream",
     "text": [
      "/state/partition1/job-45816668/ipykernel_1079633/3600892822.py:40: FutureWarning: Series.__getitem__ treating keys as positions is deprecated. In a future version, integer keys will always be treated as labels (consistent with DataFrame behavior). To access a value by position, use `ser.iloc[pos]`\n",
      "  age_gender = torch.tensor(age_gender, dtype=torch.float32)\n"
     ]
    },
    {
     "name": "stdout",
     "output_type": "stream",
     "text": [
      "Phase:test, epoch loss: 0.1631\n",
      "Kappa: 0.7160 F1: 0.8580 AUC: 0.7233\n",
      "Epoch complete in 10m 16s\n",
      "----------\n",
      "Epoch: 8/10\n",
      "----------\n"
     ]
    },
    {
     "name": "stderr",
     "output_type": "stream",
     "text": [
      "/state/partition1/job-45816668/ipykernel_1079633/3600892822.py:40: FutureWarning: Series.__getitem__ treating keys as positions is deprecated. In a future version, integer keys will always be treated as labels (consistent with DataFrame behavior). To access a value by position, use `ser.iloc[pos]`\n",
      "  age_gender = torch.tensor(age_gender, dtype=torch.float32)\n"
     ]
    },
    {
     "name": "stdout",
     "output_type": "stream",
     "text": [
      "Phase:train, epoch loss: 0.0930\n",
      "Phase:validate, epoch loss: 0.1718\n",
      "Kappa: 0.7093 F1: 0.8547 AUC: 0.7351\n"
     ]
    },
    {
     "name": "stderr",
     "output_type": "stream",
     "text": [
      "/state/partition1/job-45816668/ipykernel_1079633/3600892822.py:40: FutureWarning: Series.__getitem__ treating keys as positions is deprecated. In a future version, integer keys will always be treated as labels (consistent with DataFrame behavior). To access a value by position, use `ser.iloc[pos]`\n",
      "  age_gender = torch.tensor(age_gender, dtype=torch.float32)\n"
     ]
    },
    {
     "name": "stdout",
     "output_type": "stream",
     "text": [
      "Phase:test, epoch loss: 0.1709\n",
      "Kappa: 0.7153 F1: 0.8577 AUC: 0.7117\n",
      "Epoch complete in 9m 15s\n",
      "----------\n",
      "Epoch: 9/10\n",
      "----------\n"
     ]
    },
    {
     "name": "stderr",
     "output_type": "stream",
     "text": [
      "/state/partition1/job-45816668/ipykernel_1079633/3600892822.py:40: FutureWarning: Series.__getitem__ treating keys as positions is deprecated. In a future version, integer keys will always be treated as labels (consistent with DataFrame behavior). To access a value by position, use `ser.iloc[pos]`\n",
      "  age_gender = torch.tensor(age_gender, dtype=torch.float32)\n"
     ]
    },
    {
     "name": "stdout",
     "output_type": "stream",
     "text": [
      "Phase:train, epoch loss: 0.0802\n",
      "Phase:validate, epoch loss: 0.1822\n",
      "Kappa: 0.7167 F1: 0.8583 AUC: 0.7271\n"
     ]
    },
    {
     "name": "stderr",
     "output_type": "stream",
     "text": [
      "/state/partition1/job-45816668/ipykernel_1079633/3600892822.py:40: FutureWarning: Series.__getitem__ treating keys as positions is deprecated. In a future version, integer keys will always be treated as labels (consistent with DataFrame behavior). To access a value by position, use `ser.iloc[pos]`\n",
      "  age_gender = torch.tensor(age_gender, dtype=torch.float32)\n"
     ]
    },
    {
     "name": "stdout",
     "output_type": "stream",
     "text": [
      "Phase:test, epoch loss: 0.1768\n",
      "Kappa: 0.7131 F1: 0.8565 AUC: 0.7034\n",
      "Epoch complete in 8m 43s\n",
      "----------\n",
      "Epoch: 10/10\n",
      "----------\n"
     ]
    },
    {
     "name": "stderr",
     "output_type": "stream",
     "text": [
      "/state/partition1/job-45816668/ipykernel_1079633/3600892822.py:40: FutureWarning: Series.__getitem__ treating keys as positions is deprecated. In a future version, integer keys will always be treated as labels (consistent with DataFrame behavior). To access a value by position, use `ser.iloc[pos]`\n",
      "  age_gender = torch.tensor(age_gender, dtype=torch.float32)\n"
     ]
    },
    {
     "name": "stdout",
     "output_type": "stream",
     "text": [
      "Phase:train, epoch loss: 0.0699\n",
      "Phase:validate, epoch loss: 0.1863\n",
      "Kappa: 0.7162 F1: 0.8581 AUC: 0.7192\n"
     ]
    },
    {
     "name": "stderr",
     "output_type": "stream",
     "text": [
      "/state/partition1/job-45816668/ipykernel_1079633/3600892822.py:40: FutureWarning: Series.__getitem__ treating keys as positions is deprecated. In a future version, integer keys will always be treated as labels (consistent with DataFrame behavior). To access a value by position, use `ser.iloc[pos]`\n",
      "  age_gender = torch.tensor(age_gender, dtype=torch.float32)\n"
     ]
    },
    {
     "name": "stdout",
     "output_type": "stream",
     "text": [
      "Phase:test, epoch loss: 0.1881\n",
      "Kappa: 0.7114 F1: 0.8557 AUC: 0.6823\n",
      "Epoch complete in 8m 46s\n",
      "----------\n",
      "Training complete in 94m 16s\n",
      "Best Val F1: 0.867045 at Epoch 8\n",
      "Corresponding Kappa: 0.734091 and AUC: 0.752603\n"
     ]
    }
   ],
   "source": [
    "lfc_model = LateFusionCONCAT_MM_Resnet18()\n",
    "lfc_model.to(device)\n",
    "save_path = \"./saved_models/bs_16_lr_1e-05/LFC_MM_F1_{}.pt\"\n",
    "file_path = \"./saved_results/bs_16_lr_1e-05/LFC_MM_results.pkl\"\n",
    "criterion = nn.BCEWithLogitsLoss()\n",
    "optimizer = torch.optim.Adam(lfc_model.parameters(), lr=lr)\n",
    "lfc_results = []\n",
    "acc_dict, loss_dict, kappa_dict, f1_dict, auc_dict = train_model(lfc_model, dataloader, optimizer, criterion, num_epochs=10, save_path=save_path)\n",
    "lfc_results.append((acc_dict, loss_dict, kappa_dict, f1_dict, auc_dict))\n",
    "with open(file_path, 'wb') as file:\n",
    "    pickle.dump(lfc_results, file)"
   ]
  },
  {
   "cell_type": "code",
   "execution_count": 14,
   "id": "2b83b514-69be-46d2-b683-ca00f4fcdd79",
   "metadata": {
    "scrolled": true
   },
   "outputs": [
    {
     "name": "stdout",
     "output_type": "stream",
     "text": [
      "----------\n",
      "Epoch: 1/10\n",
      "----------\n"
     ]
    },
    {
     "name": "stderr",
     "output_type": "stream",
     "text": [
      "/state/partition1/job-45816667/ipykernel_3472411/3600892822.py:40: FutureWarning: Series.__getitem__ treating keys as positions is deprecated. In a future version, integer keys will always be treated as labels (consistent with DataFrame behavior). To access a value by position, use `ser.iloc[pos]`\n",
      "  age_gender = torch.tensor(age_gender, dtype=torch.float32)\n"
     ]
    },
    {
     "name": "stdout",
     "output_type": "stream",
     "text": [
      "Phase:train, epoch loss: 0.3040\n",
      "Phase:validate, epoch loss: 0.1719\n",
      "Kappa: 0.7076 F1: 0.8538 AUC: 0.6775\n"
     ]
    },
    {
     "name": "stderr",
     "output_type": "stream",
     "text": [
      "/state/partition1/job-45816667/ipykernel_3472411/3600892822.py:40: FutureWarning: Series.__getitem__ treating keys as positions is deprecated. In a future version, integer keys will always be treated as labels (consistent with DataFrame behavior). To access a value by position, use `ser.iloc[pos]`\n",
      "  age_gender = torch.tensor(age_gender, dtype=torch.float32)\n"
     ]
    },
    {
     "name": "stdout",
     "output_type": "stream",
     "text": [
      "Phase:test, epoch loss: 0.1745\n",
      "Kappa: 0.7021 F1: 0.8511 AUC: 0.6483\n",
      "Epoch complete in 10m 5s\n",
      "----------\n",
      "Epoch: 2/10\n",
      "----------\n"
     ]
    },
    {
     "name": "stderr",
     "output_type": "stream",
     "text": [
      "/state/partition1/job-45816667/ipykernel_3472411/3600892822.py:40: FutureWarning: Series.__getitem__ treating keys as positions is deprecated. In a future version, integer keys will always be treated as labels (consistent with DataFrame behavior). To access a value by position, use `ser.iloc[pos]`\n",
      "  age_gender = torch.tensor(age_gender, dtype=torch.float32)\n"
     ]
    },
    {
     "name": "stdout",
     "output_type": "stream",
     "text": [
      "Phase:train, epoch loss: 0.1572\n",
      "Phase:validate, epoch loss: 0.1610\n",
      "Kappa: 0.7187 F1: 0.8593 AUC: 0.7339\n"
     ]
    },
    {
     "name": "stderr",
     "output_type": "stream",
     "text": [
      "/state/partition1/job-45816667/ipykernel_3472411/3600892822.py:40: FutureWarning: Series.__getitem__ treating keys as positions is deprecated. In a future version, integer keys will always be treated as labels (consistent with DataFrame behavior). To access a value by position, use `ser.iloc[pos]`\n",
      "  age_gender = torch.tensor(age_gender, dtype=torch.float32)\n"
     ]
    },
    {
     "name": "stdout",
     "output_type": "stream",
     "text": [
      "Phase:test, epoch loss: 0.1662\n",
      "Kappa: 0.7146 F1: 0.8573 AUC: 0.6918\n",
      "Epoch complete in 11m 17s\n",
      "----------\n",
      "Epoch: 3/10\n",
      "----------\n"
     ]
    },
    {
     "name": "stderr",
     "output_type": "stream",
     "text": [
      "/state/partition1/job-45816667/ipykernel_3472411/3600892822.py:40: FutureWarning: Series.__getitem__ treating keys as positions is deprecated. In a future version, integer keys will always be treated as labels (consistent with DataFrame behavior). To access a value by position, use `ser.iloc[pos]`\n",
      "  age_gender = torch.tensor(age_gender, dtype=torch.float32)\n"
     ]
    },
    {
     "name": "stdout",
     "output_type": "stream",
     "text": [
      "Phase:train, epoch loss: 0.1455\n",
      "Phase:validate, epoch loss: 0.1594\n",
      "Kappa: 0.7222 F1: 0.8611 AUC: 0.7482\n"
     ]
    },
    {
     "name": "stderr",
     "output_type": "stream",
     "text": [
      "/state/partition1/job-45816667/ipykernel_3472411/3600892822.py:40: FutureWarning: Series.__getitem__ treating keys as positions is deprecated. In a future version, integer keys will always be treated as labels (consistent with DataFrame behavior). To access a value by position, use `ser.iloc[pos]`\n",
      "  age_gender = torch.tensor(age_gender, dtype=torch.float32)\n"
     ]
    },
    {
     "name": "stdout",
     "output_type": "stream",
     "text": [
      "Phase:test, epoch loss: 0.1685\n",
      "Kappa: 0.7131 F1: 0.8565 AUC: 0.7053\n",
      "Epoch complete in 11m 35s\n",
      "----------\n",
      "Epoch: 4/10\n",
      "----------\n"
     ]
    },
    {
     "name": "stderr",
     "output_type": "stream",
     "text": [
      "/state/partition1/job-45816667/ipykernel_3472411/3600892822.py:40: FutureWarning: Series.__getitem__ treating keys as positions is deprecated. In a future version, integer keys will always be treated as labels (consistent with DataFrame behavior). To access a value by position, use `ser.iloc[pos]`\n",
      "  age_gender = torch.tensor(age_gender, dtype=torch.float32)\n"
     ]
    },
    {
     "name": "stdout",
     "output_type": "stream",
     "text": [
      "Phase:train, epoch loss: 0.1362\n",
      "Phase:validate, epoch loss: 0.1584\n",
      "Kappa: 0.7240 F1: 0.8620 AUC: 0.7592\n"
     ]
    },
    {
     "name": "stderr",
     "output_type": "stream",
     "text": [
      "/state/partition1/job-45816667/ipykernel_3472411/3600892822.py:40: FutureWarning: Series.__getitem__ treating keys as positions is deprecated. In a future version, integer keys will always be treated as labels (consistent with DataFrame behavior). To access a value by position, use `ser.iloc[pos]`\n",
      "  age_gender = torch.tensor(age_gender, dtype=torch.float32)\n"
     ]
    },
    {
     "name": "stdout",
     "output_type": "stream",
     "text": [
      "Phase:test, epoch loss: 0.1646\n",
      "Kappa: 0.7181 F1: 0.8591 AUC: 0.7191\n",
      "Epoch complete in 9m 52s\n",
      "----------\n",
      "Epoch: 5/10\n",
      "----------\n"
     ]
    },
    {
     "name": "stderr",
     "output_type": "stream",
     "text": [
      "/state/partition1/job-45816667/ipykernel_3472411/3600892822.py:40: FutureWarning: Series.__getitem__ treating keys as positions is deprecated. In a future version, integer keys will always be treated as labels (consistent with DataFrame behavior). To access a value by position, use `ser.iloc[pos]`\n",
      "  age_gender = torch.tensor(age_gender, dtype=torch.float32)\n"
     ]
    },
    {
     "name": "stdout",
     "output_type": "stream",
     "text": [
      "Phase:train, epoch loss: 0.1274\n",
      "Phase:validate, epoch loss: 0.1592\n",
      "Kappa: 0.7189 F1: 0.8595 AUC: 0.7638\n"
     ]
    },
    {
     "name": "stderr",
     "output_type": "stream",
     "text": [
      "/state/partition1/job-45816667/ipykernel_3472411/3600892822.py:40: FutureWarning: Series.__getitem__ treating keys as positions is deprecated. In a future version, integer keys will always be treated as labels (consistent with DataFrame behavior). To access a value by position, use `ser.iloc[pos]`\n",
      "  age_gender = torch.tensor(age_gender, dtype=torch.float32)\n"
     ]
    },
    {
     "name": "stdout",
     "output_type": "stream",
     "text": [
      "Phase:test, epoch loss: 0.1653\n",
      "Kappa: 0.7177 F1: 0.8589 AUC: 0.7189\n",
      "Epoch complete in 9m 41s\n",
      "----------\n",
      "Epoch: 6/10\n",
      "----------\n"
     ]
    },
    {
     "name": "stderr",
     "output_type": "stream",
     "text": [
      "/state/partition1/job-45816667/ipykernel_3472411/3600892822.py:40: FutureWarning: Series.__getitem__ treating keys as positions is deprecated. In a future version, integer keys will always be treated as labels (consistent with DataFrame behavior). To access a value by position, use `ser.iloc[pos]`\n",
      "  age_gender = torch.tensor(age_gender, dtype=torch.float32)\n"
     ]
    },
    {
     "name": "stdout",
     "output_type": "stream",
     "text": [
      "Phase:train, epoch loss: 0.1181\n",
      "Phase:validate, epoch loss: 0.1653\n",
      "Kappa: 0.7263 F1: 0.8631 AUC: 0.7621\n"
     ]
    },
    {
     "name": "stderr",
     "output_type": "stream",
     "text": [
      "/state/partition1/job-45816667/ipykernel_3472411/3600892822.py:40: FutureWarning: Series.__getitem__ treating keys as positions is deprecated. In a future version, integer keys will always be treated as labels (consistent with DataFrame behavior). To access a value by position, use `ser.iloc[pos]`\n",
      "  age_gender = torch.tensor(age_gender, dtype=torch.float32)\n"
     ]
    },
    {
     "name": "stdout",
     "output_type": "stream",
     "text": [
      "Phase:test, epoch loss: 0.1688\n",
      "Kappa: 0.7185 F1: 0.8592 AUC: 0.7227\n",
      "Epoch complete in 10m 59s\n",
      "----------\n",
      "Epoch: 7/10\n",
      "----------\n"
     ]
    },
    {
     "name": "stderr",
     "output_type": "stream",
     "text": [
      "/state/partition1/job-45816667/ipykernel_3472411/3600892822.py:40: FutureWarning: Series.__getitem__ treating keys as positions is deprecated. In a future version, integer keys will always be treated as labels (consistent with DataFrame behavior). To access a value by position, use `ser.iloc[pos]`\n",
      "  age_gender = torch.tensor(age_gender, dtype=torch.float32)\n"
     ]
    },
    {
     "name": "stdout",
     "output_type": "stream",
     "text": [
      "Phase:train, epoch loss: 0.1093\n",
      "Phase:validate, epoch loss: 0.1769\n",
      "Kappa: 0.7232 F1: 0.8616 AUC: 0.7518\n"
     ]
    },
    {
     "name": "stderr",
     "output_type": "stream",
     "text": [
      "/state/partition1/job-45816667/ipykernel_3472411/3600892822.py:40: FutureWarning: Series.__getitem__ treating keys as positions is deprecated. In a future version, integer keys will always be treated as labels (consistent with DataFrame behavior). To access a value by position, use `ser.iloc[pos]`\n",
      "  age_gender = torch.tensor(age_gender, dtype=torch.float32)\n"
     ]
    },
    {
     "name": "stdout",
     "output_type": "stream",
     "text": [
      "Phase:test, epoch loss: 0.1900\n",
      "Kappa: 0.7050 F1: 0.8525 AUC: 0.7161\n",
      "Epoch complete in 10m 25s\n",
      "----------\n",
      "Epoch: 8/10\n",
      "----------\n"
     ]
    },
    {
     "name": "stderr",
     "output_type": "stream",
     "text": [
      "/state/partition1/job-45816667/ipykernel_3472411/3600892822.py:40: FutureWarning: Series.__getitem__ treating keys as positions is deprecated. In a future version, integer keys will always be treated as labels (consistent with DataFrame behavior). To access a value by position, use `ser.iloc[pos]`\n",
      "  age_gender = torch.tensor(age_gender, dtype=torch.float32)\n"
     ]
    },
    {
     "name": "stdout",
     "output_type": "stream",
     "text": [
      "Phase:train, epoch loss: 0.0967\n",
      "Phase:validate, epoch loss: 0.1752\n",
      "Kappa: 0.7235 F1: 0.8617 AUC: 0.7475\n"
     ]
    },
    {
     "name": "stderr",
     "output_type": "stream",
     "text": [
      "/state/partition1/job-45816667/ipykernel_3472411/3600892822.py:40: FutureWarning: Series.__getitem__ treating keys as positions is deprecated. In a future version, integer keys will always be treated as labels (consistent with DataFrame behavior). To access a value by position, use `ser.iloc[pos]`\n",
      "  age_gender = torch.tensor(age_gender, dtype=torch.float32)\n"
     ]
    },
    {
     "name": "stdout",
     "output_type": "stream",
     "text": [
      "Phase:test, epoch loss: 0.1796\n",
      "Kappa: 0.7090 F1: 0.8545 AUC: 0.7178\n",
      "Epoch complete in 12m 16s\n",
      "----------\n",
      "Epoch: 9/10\n",
      "----------\n"
     ]
    },
    {
     "name": "stderr",
     "output_type": "stream",
     "text": [
      "/state/partition1/job-45816667/ipykernel_3472411/3600892822.py:40: FutureWarning: Series.__getitem__ treating keys as positions is deprecated. In a future version, integer keys will always be treated as labels (consistent with DataFrame behavior). To access a value by position, use `ser.iloc[pos]`\n",
      "  age_gender = torch.tensor(age_gender, dtype=torch.float32)\n"
     ]
    },
    {
     "name": "stdout",
     "output_type": "stream",
     "text": [
      "Phase:train, epoch loss: 0.0862\n",
      "Phase:validate, epoch loss: 0.1942\n",
      "Kappa: 0.7129 F1: 0.8564 AUC: 0.7136\n"
     ]
    },
    {
     "name": "stderr",
     "output_type": "stream",
     "text": [
      "/state/partition1/job-45816667/ipykernel_3472411/3600892822.py:40: FutureWarning: Series.__getitem__ treating keys as positions is deprecated. In a future version, integer keys will always be treated as labels (consistent with DataFrame behavior). To access a value by position, use `ser.iloc[pos]`\n",
      "  age_gender = torch.tensor(age_gender, dtype=torch.float32)\n"
     ]
    },
    {
     "name": "stdout",
     "output_type": "stream",
     "text": [
      "Phase:test, epoch loss: 0.1903\n",
      "Kappa: 0.7128 F1: 0.8564 AUC: 0.6976\n",
      "Epoch complete in 11m 30s\n",
      "----------\n",
      "Epoch: 10/10\n",
      "----------\n"
     ]
    },
    {
     "name": "stderr",
     "output_type": "stream",
     "text": [
      "/state/partition1/job-45816667/ipykernel_3472411/3600892822.py:40: FutureWarning: Series.__getitem__ treating keys as positions is deprecated. In a future version, integer keys will always be treated as labels (consistent with DataFrame behavior). To access a value by position, use `ser.iloc[pos]`\n",
      "  age_gender = torch.tensor(age_gender, dtype=torch.float32)\n"
     ]
    },
    {
     "name": "stdout",
     "output_type": "stream",
     "text": [
      "Phase:train, epoch loss: 0.0761\n",
      "Phase:validate, epoch loss: 0.1919\n",
      "Kappa: 0.7152 F1: 0.8576 AUC: 0.7399\n"
     ]
    },
    {
     "name": "stderr",
     "output_type": "stream",
     "text": [
      "/state/partition1/job-45816667/ipykernel_3472411/3600892822.py:40: FutureWarning: Series.__getitem__ treating keys as positions is deprecated. In a future version, integer keys will always be treated as labels (consistent with DataFrame behavior). To access a value by position, use `ser.iloc[pos]`\n",
      "  age_gender = torch.tensor(age_gender, dtype=torch.float32)\n"
     ]
    },
    {
     "name": "stdout",
     "output_type": "stream",
     "text": [
      "Phase:test, epoch loss: 0.1907\n",
      "Kappa: 0.7024 F1: 0.8512 AUC: 0.7002\n",
      "Epoch complete in 12m 16s\n",
      "----------\n",
      "Training complete in 109m 58s\n",
      "Best Val F1: 0.863130 at Epoch 8\n",
      "Corresponding Kappa: 0.726263 and AUC: 0.762071\n"
     ]
    }
   ],
   "source": [
    "lfp_model = LateFusionPROD_MM_Resnet18()\n",
    "lfp_model.to(device)\n",
    "save_path = \"./saved_models/bs_16_lr_1e-05/LFP_MM_F1_{}.pt\"\n",
    "file_path = \"./saved_results/bs_16_lr_1e-05/LFP_MM_results.pkl\"\n",
    "criterion = nn.BCEWithLogitsLoss()\n",
    "optimizer = torch.optim.Adam(lfp_model.parameters(), lr=lr)\n",
    "lfp_results = []\n",
    "acc_dict, loss_dict, kappa_dict, f1_dict, auc_dict = train_model(lfp_model, dataloader, optimizer, criterion, num_epochs=10, save_path=save_path)\n",
    "lfp_results.append((acc_dict, loss_dict, kappa_dict, f1_dict, auc_dict))\n",
    "with open(file_path, 'wb') as file:\n",
    "    pickle.dump(lfp_results, file)"
   ]
  },
  {
   "cell_type": "code",
   "execution_count": 14,
   "id": "a5fd14f6-3df6-46c7-8d1e-2d630f5f968c",
   "metadata": {
    "scrolled": true
   },
   "outputs": [
    {
     "name": "stdout",
     "output_type": "stream",
     "text": [
      "----------\n",
      "Epoch: 1/10\n",
      "----------\n"
     ]
    },
    {
     "name": "stderr",
     "output_type": "stream",
     "text": [
      "/state/partition1/job-45816665/ipykernel_2983952/3600892822.py:40: FutureWarning: Series.__getitem__ treating keys as positions is deprecated. In a future version, integer keys will always be treated as labels (consistent with DataFrame behavior). To access a value by position, use `ser.iloc[pos]`\n",
      "  age_gender = torch.tensor(age_gender, dtype=torch.float32)\n"
     ]
    },
    {
     "name": "stdout",
     "output_type": "stream",
     "text": [
      "Phase:train, epoch loss: 0.3076\n",
      "Phase:validate, epoch loss: 0.1724\n",
      "Kappa: 0.7088 F1: 0.8544 AUC: 0.6653\n"
     ]
    },
    {
     "name": "stderr",
     "output_type": "stream",
     "text": [
      "/state/partition1/job-45816665/ipykernel_2983952/3600892822.py:40: FutureWarning: Series.__getitem__ treating keys as positions is deprecated. In a future version, integer keys will always be treated as labels (consistent with DataFrame behavior). To access a value by position, use `ser.iloc[pos]`\n",
      "  age_gender = torch.tensor(age_gender, dtype=torch.float32)\n"
     ]
    },
    {
     "name": "stdout",
     "output_type": "stream",
     "text": [
      "Phase:test, epoch loss: 0.1723\n",
      "Kappa: 0.7114 F1: 0.8557 AUC: 0.6466\n",
      "Epoch complete in 10m 41s\n",
      "----------\n",
      "Epoch: 2/10\n",
      "----------\n"
     ]
    },
    {
     "name": "stderr",
     "output_type": "stream",
     "text": [
      "/state/partition1/job-45816665/ipykernel_2983952/3600892822.py:40: FutureWarning: Series.__getitem__ treating keys as positions is deprecated. In a future version, integer keys will always be treated as labels (consistent with DataFrame behavior). To access a value by position, use `ser.iloc[pos]`\n",
      "  age_gender = torch.tensor(age_gender, dtype=torch.float32)\n"
     ]
    },
    {
     "name": "stdout",
     "output_type": "stream",
     "text": [
      "Phase:train, epoch loss: 0.1631\n",
      "Phase:validate, epoch loss: 0.1638\n",
      "Kappa: 0.7152 F1: 0.8576 AUC: 0.7169\n"
     ]
    },
    {
     "name": "stderr",
     "output_type": "stream",
     "text": [
      "/state/partition1/job-45816665/ipykernel_2983952/3600892822.py:40: FutureWarning: Series.__getitem__ treating keys as positions is deprecated. In a future version, integer keys will always be treated as labels (consistent with DataFrame behavior). To access a value by position, use `ser.iloc[pos]`\n",
      "  age_gender = torch.tensor(age_gender, dtype=torch.float32)\n"
     ]
    },
    {
     "name": "stdout",
     "output_type": "stream",
     "text": [
      "Phase:test, epoch loss: 0.1643\n",
      "Kappa: 0.7096 F1: 0.8548 AUC: 0.6782\n",
      "Epoch complete in 10m 11s\n",
      "----------\n",
      "Epoch: 3/10\n",
      "----------\n"
     ]
    },
    {
     "name": "stderr",
     "output_type": "stream",
     "text": [
      "/state/partition1/job-45816665/ipykernel_2983952/3600892822.py:40: FutureWarning: Series.__getitem__ treating keys as positions is deprecated. In a future version, integer keys will always be treated as labels (consistent with DataFrame behavior). To access a value by position, use `ser.iloc[pos]`\n",
      "  age_gender = torch.tensor(age_gender, dtype=torch.float32)\n"
     ]
    },
    {
     "name": "stdout",
     "output_type": "stream",
     "text": [
      "Phase:train, epoch loss: 0.1520\n",
      "Phase:validate, epoch loss: 0.1610\n",
      "Kappa: 0.7212 F1: 0.8606 AUC: 0.7362\n"
     ]
    },
    {
     "name": "stderr",
     "output_type": "stream",
     "text": [
      "/state/partition1/job-45816665/ipykernel_2983952/3600892822.py:40: FutureWarning: Series.__getitem__ treating keys as positions is deprecated. In a future version, integer keys will always be treated as labels (consistent with DataFrame behavior). To access a value by position, use `ser.iloc[pos]`\n",
      "  age_gender = torch.tensor(age_gender, dtype=torch.float32)\n"
     ]
    },
    {
     "name": "stdout",
     "output_type": "stream",
     "text": [
      "Phase:test, epoch loss: 0.1636\n",
      "Kappa: 0.7113 F1: 0.8557 AUC: 0.6928\n",
      "Epoch complete in 10m 58s\n",
      "----------\n",
      "Epoch: 4/10\n",
      "----------\n"
     ]
    },
    {
     "name": "stderr",
     "output_type": "stream",
     "text": [
      "/state/partition1/job-45816665/ipykernel_2983952/3600892822.py:40: FutureWarning: Series.__getitem__ treating keys as positions is deprecated. In a future version, integer keys will always be treated as labels (consistent with DataFrame behavior). To access a value by position, use `ser.iloc[pos]`\n",
      "  age_gender = torch.tensor(age_gender, dtype=torch.float32)\n"
     ]
    },
    {
     "name": "stdout",
     "output_type": "stream",
     "text": [
      "Phase:train, epoch loss: 0.1426\n",
      "Phase:validate, epoch loss: 0.1587\n",
      "Kappa: 0.7303 F1: 0.8652 AUC: 0.7488\n"
     ]
    },
    {
     "name": "stderr",
     "output_type": "stream",
     "text": [
      "/state/partition1/job-45816665/ipykernel_2983952/3600892822.py:40: FutureWarning: Series.__getitem__ treating keys as positions is deprecated. In a future version, integer keys will always be treated as labels (consistent with DataFrame behavior). To access a value by position, use `ser.iloc[pos]`\n",
      "  age_gender = torch.tensor(age_gender, dtype=torch.float32)\n"
     ]
    },
    {
     "name": "stdout",
     "output_type": "stream",
     "text": [
      "Phase:test, epoch loss: 0.1623\n",
      "Kappa: 0.7126 F1: 0.8563 AUC: 0.7061\n",
      "Epoch complete in 9m 57s\n",
      "----------\n",
      "Epoch: 5/10\n",
      "----------\n"
     ]
    },
    {
     "name": "stderr",
     "output_type": "stream",
     "text": [
      "/state/partition1/job-45816665/ipykernel_2983952/3600892822.py:40: FutureWarning: Series.__getitem__ treating keys as positions is deprecated. In a future version, integer keys will always be treated as labels (consistent with DataFrame behavior). To access a value by position, use `ser.iloc[pos]`\n",
      "  age_gender = torch.tensor(age_gender, dtype=torch.float32)\n"
     ]
    },
    {
     "name": "stdout",
     "output_type": "stream",
     "text": [
      "Phase:train, epoch loss: 0.1332\n",
      "Phase:validate, epoch loss: 0.1599\n",
      "Kappa: 0.7253 F1: 0.8626 AUC: 0.7511\n"
     ]
    },
    {
     "name": "stderr",
     "output_type": "stream",
     "text": [
      "/state/partition1/job-45816665/ipykernel_2983952/3600892822.py:40: FutureWarning: Series.__getitem__ treating keys as positions is deprecated. In a future version, integer keys will always be treated as labels (consistent with DataFrame behavior). To access a value by position, use `ser.iloc[pos]`\n",
      "  age_gender = torch.tensor(age_gender, dtype=torch.float32)\n"
     ]
    },
    {
     "name": "stdout",
     "output_type": "stream",
     "text": [
      "Phase:test, epoch loss: 0.1622\n",
      "Kappa: 0.7145 F1: 0.8572 AUC: 0.7122\n",
      "Epoch complete in 9m 52s\n",
      "----------\n",
      "Epoch: 6/10\n",
      "----------\n"
     ]
    },
    {
     "name": "stderr",
     "output_type": "stream",
     "text": [
      "/state/partition1/job-45816665/ipykernel_2983952/3600892822.py:40: FutureWarning: Series.__getitem__ treating keys as positions is deprecated. In a future version, integer keys will always be treated as labels (consistent with DataFrame behavior). To access a value by position, use `ser.iloc[pos]`\n",
      "  age_gender = torch.tensor(age_gender, dtype=torch.float32)\n"
     ]
    },
    {
     "name": "stdout",
     "output_type": "stream",
     "text": [
      "Phase:train, epoch loss: 0.1221\n",
      "Phase:validate, epoch loss: 0.1646\n",
      "Kappa: 0.7202 F1: 0.8601 AUC: 0.7372\n"
     ]
    },
    {
     "name": "stderr",
     "output_type": "stream",
     "text": [
      "/state/partition1/job-45816665/ipykernel_2983952/3600892822.py:40: FutureWarning: Series.__getitem__ treating keys as positions is deprecated. In a future version, integer keys will always be treated as labels (consistent with DataFrame behavior). To access a value by position, use `ser.iloc[pos]`\n",
      "  age_gender = torch.tensor(age_gender, dtype=torch.float32)\n"
     ]
    },
    {
     "name": "stdout",
     "output_type": "stream",
     "text": [
      "Phase:test, epoch loss: 0.1667\n",
      "Kappa: 0.7135 F1: 0.8567 AUC: 0.7102\n",
      "Epoch complete in 10m 31s\n",
      "----------\n",
      "Epoch: 7/10\n",
      "----------\n"
     ]
    },
    {
     "name": "stderr",
     "output_type": "stream",
     "text": [
      "/state/partition1/job-45816665/ipykernel_2983952/3600892822.py:40: FutureWarning: Series.__getitem__ treating keys as positions is deprecated. In a future version, integer keys will always be treated as labels (consistent with DataFrame behavior). To access a value by position, use `ser.iloc[pos]`\n",
      "  age_gender = torch.tensor(age_gender, dtype=torch.float32)\n"
     ]
    },
    {
     "name": "stdout",
     "output_type": "stream",
     "text": [
      "Phase:train, epoch loss: 0.1111\n",
      "Phase:validate, epoch loss: 0.1761\n",
      "Kappa: 0.7043 F1: 0.8521 AUC: 0.7307\n"
     ]
    },
    {
     "name": "stderr",
     "output_type": "stream",
     "text": [
      "/state/partition1/job-45816665/ipykernel_2983952/3600892822.py:40: FutureWarning: Series.__getitem__ treating keys as positions is deprecated. In a future version, integer keys will always be treated as labels (consistent with DataFrame behavior). To access a value by position, use `ser.iloc[pos]`\n",
      "  age_gender = torch.tensor(age_gender, dtype=torch.float32)\n"
     ]
    },
    {
     "name": "stdout",
     "output_type": "stream",
     "text": [
      "Phase:test, epoch loss: 0.1892\n",
      "Kappa: 0.6952 F1: 0.8476 AUC: 0.7048\n",
      "Epoch complete in 10m 7s\n",
      "----------\n",
      "Epoch: 8/10\n",
      "----------\n"
     ]
    },
    {
     "name": "stderr",
     "output_type": "stream",
     "text": [
      "/state/partition1/job-45816665/ipykernel_2983952/3600892822.py:40: FutureWarning: Series.__getitem__ treating keys as positions is deprecated. In a future version, integer keys will always be treated as labels (consistent with DataFrame behavior). To access a value by position, use `ser.iloc[pos]`\n",
      "  age_gender = torch.tensor(age_gender, dtype=torch.float32)\n"
     ]
    },
    {
     "name": "stdout",
     "output_type": "stream",
     "text": [
      "Phase:train, epoch loss: 0.0963\n",
      "Phase:validate, epoch loss: 0.1826\n",
      "Kappa: 0.7071 F1: 0.8535 AUC: 0.7246\n"
     ]
    },
    {
     "name": "stderr",
     "output_type": "stream",
     "text": [
      "/state/partition1/job-45816665/ipykernel_2983952/3600892822.py:40: FutureWarning: Series.__getitem__ treating keys as positions is deprecated. In a future version, integer keys will always be treated as labels (consistent with DataFrame behavior). To access a value by position, use `ser.iloc[pos]`\n",
      "  age_gender = torch.tensor(age_gender, dtype=torch.float32)\n"
     ]
    },
    {
     "name": "stdout",
     "output_type": "stream",
     "text": [
      "Phase:test, epoch loss: 0.1895\n",
      "Kappa: 0.6966 F1: 0.8483 AUC: 0.6963\n",
      "Epoch complete in 10m 44s\n",
      "----------\n",
      "Epoch: 9/10\n",
      "----------\n"
     ]
    },
    {
     "name": "stderr",
     "output_type": "stream",
     "text": [
      "/state/partition1/job-45816665/ipykernel_2983952/3600892822.py:40: FutureWarning: Series.__getitem__ treating keys as positions is deprecated. In a future version, integer keys will always be treated as labels (consistent with DataFrame behavior). To access a value by position, use `ser.iloc[pos]`\n",
      "  age_gender = torch.tensor(age_gender, dtype=torch.float32)\n"
     ]
    },
    {
     "name": "stdout",
     "output_type": "stream",
     "text": [
      "Phase:train, epoch loss: 0.0851\n",
      "Phase:validate, epoch loss: 0.1958\n",
      "Kappa: 0.7033 F1: 0.8516 AUC: 0.7060\n"
     ]
    },
    {
     "name": "stderr",
     "output_type": "stream",
     "text": [
      "/state/partition1/job-45816665/ipykernel_2983952/3600892822.py:40: FutureWarning: Series.__getitem__ treating keys as positions is deprecated. In a future version, integer keys will always be treated as labels (consistent with DataFrame behavior). To access a value by position, use `ser.iloc[pos]`\n",
      "  age_gender = torch.tensor(age_gender, dtype=torch.float32)\n"
     ]
    },
    {
     "name": "stdout",
     "output_type": "stream",
     "text": [
      "Phase:test, epoch loss: 0.2083\n",
      "Kappa: 0.6896 F1: 0.8448 AUC: 0.6863\n",
      "Epoch complete in 10m 21s\n",
      "----------\n",
      "Epoch: 10/10\n",
      "----------\n"
     ]
    },
    {
     "name": "stderr",
     "output_type": "stream",
     "text": [
      "/state/partition1/job-45816665/ipykernel_2983952/3600892822.py:40: FutureWarning: Series.__getitem__ treating keys as positions is deprecated. In a future version, integer keys will always be treated as labels (consistent with DataFrame behavior). To access a value by position, use `ser.iloc[pos]`\n",
      "  age_gender = torch.tensor(age_gender, dtype=torch.float32)\n"
     ]
    },
    {
     "name": "stdout",
     "output_type": "stream",
     "text": [
      "Phase:train, epoch loss: 0.0760\n",
      "Phase:validate, epoch loss: 0.2076\n",
      "Kappa: 0.6949 F1: 0.8475 AUC: 0.7043\n"
     ]
    },
    {
     "name": "stderr",
     "output_type": "stream",
     "text": [
      "/state/partition1/job-45816665/ipykernel_2983952/3600892822.py:40: FutureWarning: Series.__getitem__ treating keys as positions is deprecated. In a future version, integer keys will always be treated as labels (consistent with DataFrame behavior). To access a value by position, use `ser.iloc[pos]`\n",
      "  age_gender = torch.tensor(age_gender, dtype=torch.float32)\n"
     ]
    },
    {
     "name": "stdout",
     "output_type": "stream",
     "text": [
      "Phase:test, epoch loss: 0.2148\n",
      "Kappa: 0.6937 F1: 0.8468 AUC: 0.6851\n",
      "Epoch complete in 10m 27s\n",
      "----------\n",
      "Training complete in 103m 50s\n",
      "Best Val F1: 0.865152 at Epoch 8\n",
      "Corresponding Kappa: 0.730303 and AUC: 0.748843\n"
     ]
    }
   ],
   "source": [
    "efs_model = EarlyFusionSUM_MM_Resnet18()\n",
    "efs_model.to(device)\n",
    "save_path = \"./saved_models/bs_16_lr_1e-05/EFS_MM_F1_{}.pt\"\n",
    "file_path = \"./saved_results/bs_16_lr_1e-05/EFS_MM_results.pkl\"\n",
    "criterion = nn.BCEWithLogitsLoss()\n",
    "optimizer = torch.optim.Adam(efs_model.parameters(), lr=lr)\n",
    "efs_results = []\n",
    "acc_dict, loss_dict, kappa_dict, f1_dict, auc_dict = train_model(efs_model, dataloader, optimizer, criterion, num_epochs=10, save_path=save_path)\n",
    "efs_results.append((acc_dict, loss_dict, kappa_dict, f1_dict, auc_dict))\n",
    "with open(file_path, 'wb') as file:\n",
    "    pickle.dump(efs_results, file)"
   ]
  },
  {
   "cell_type": "code",
   "execution_count": 14,
   "id": "2c53b0a3-56f2-469a-8771-52ff7d5c1237",
   "metadata": {
    "scrolled": true
   },
   "outputs": [
    {
     "name": "stdout",
     "output_type": "stream",
     "text": [
      "----------\n",
      "Epoch: 1/10\n",
      "----------\n"
     ]
    },
    {
     "name": "stderr",
     "output_type": "stream",
     "text": [
      "/state/partition1/job-45816666/ipykernel_557996/3600892822.py:40: FutureWarning: Series.__getitem__ treating keys as positions is deprecated. In a future version, integer keys will always be treated as labels (consistent with DataFrame behavior). To access a value by position, use `ser.iloc[pos]`\n",
      "  age_gender = torch.tensor(age_gender, dtype=torch.float32)\n"
     ]
    },
    {
     "name": "stdout",
     "output_type": "stream",
     "text": [
      "Phase:train, epoch loss: 0.2027\n",
      "Phase:validate, epoch loss: 0.1779\n",
      "Kappa: 0.7114 F1: 0.8557 AUC: 0.6203\n"
     ]
    },
    {
     "name": "stderr",
     "output_type": "stream",
     "text": [
      "/state/partition1/job-45816666/ipykernel_557996/3600892822.py:40: FutureWarning: Series.__getitem__ treating keys as positions is deprecated. In a future version, integer keys will always be treated as labels (consistent with DataFrame behavior). To access a value by position, use `ser.iloc[pos]`\n",
      "  age_gender = torch.tensor(age_gender, dtype=torch.float32)\n"
     ]
    },
    {
     "name": "stdout",
     "output_type": "stream",
     "text": [
      "Phase:test, epoch loss: 0.1775\n",
      "Kappa: 0.7094 F1: 0.8547 AUC: 0.6127\n",
      "Epoch complete in 9m 58s\n",
      "----------\n",
      "Epoch: 2/10\n",
      "----------\n"
     ]
    },
    {
     "name": "stderr",
     "output_type": "stream",
     "text": [
      "/state/partition1/job-45816666/ipykernel_557996/3600892822.py:40: FutureWarning: Series.__getitem__ treating keys as positions is deprecated. In a future version, integer keys will always be treated as labels (consistent with DataFrame behavior). To access a value by position, use `ser.iloc[pos]`\n",
      "  age_gender = torch.tensor(age_gender, dtype=torch.float32)\n"
     ]
    },
    {
     "name": "stdout",
     "output_type": "stream",
     "text": [
      "Phase:train, epoch loss: 0.1704\n",
      "Phase:validate, epoch loss: 0.1730\n",
      "Kappa: 0.7106 F1: 0.8553 AUC: 0.6783\n"
     ]
    },
    {
     "name": "stderr",
     "output_type": "stream",
     "text": [
      "/state/partition1/job-45816666/ipykernel_557996/3600892822.py:40: FutureWarning: Series.__getitem__ treating keys as positions is deprecated. In a future version, integer keys will always be treated as labels (consistent with DataFrame behavior). To access a value by position, use `ser.iloc[pos]`\n",
      "  age_gender = torch.tensor(age_gender, dtype=torch.float32)\n"
     ]
    },
    {
     "name": "stdout",
     "output_type": "stream",
     "text": [
      "Phase:test, epoch loss: 0.1715\n",
      "Kappa: 0.7113 F1: 0.8557 AUC: 0.6457\n",
      "Epoch complete in 10m 2s\n",
      "----------\n",
      "Epoch: 3/10\n",
      "----------\n"
     ]
    },
    {
     "name": "stderr",
     "output_type": "stream",
     "text": [
      "/state/partition1/job-45816666/ipykernel_557996/3600892822.py:40: FutureWarning: Series.__getitem__ treating keys as positions is deprecated. In a future version, integer keys will always be treated as labels (consistent with DataFrame behavior). To access a value by position, use `ser.iloc[pos]`\n",
      "  age_gender = torch.tensor(age_gender, dtype=torch.float32)\n"
     ]
    },
    {
     "name": "stdout",
     "output_type": "stream",
     "text": [
      "Phase:train, epoch loss: 0.1612\n",
      "Phase:validate, epoch loss: 0.1690\n",
      "Kappa: 0.7159 F1: 0.8580 AUC: 0.6942\n"
     ]
    },
    {
     "name": "stderr",
     "output_type": "stream",
     "text": [
      "/state/partition1/job-45816666/ipykernel_557996/3600892822.py:40: FutureWarning: Series.__getitem__ treating keys as positions is deprecated. In a future version, integer keys will always be treated as labels (consistent with DataFrame behavior). To access a value by position, use `ser.iloc[pos]`\n",
      "  age_gender = torch.tensor(age_gender, dtype=torch.float32)\n"
     ]
    },
    {
     "name": "stdout",
     "output_type": "stream",
     "text": [
      "Phase:test, epoch loss: 0.1687\n",
      "Kappa: 0.7106 F1: 0.8553 AUC: 0.6698\n",
      "Epoch complete in 10m 2s\n",
      "----------\n",
      "Epoch: 4/10\n",
      "----------\n"
     ]
    },
    {
     "name": "stderr",
     "output_type": "stream",
     "text": [
      "/state/partition1/job-45816666/ipykernel_557996/3600892822.py:40: FutureWarning: Series.__getitem__ treating keys as positions is deprecated. In a future version, integer keys will always be treated as labels (consistent with DataFrame behavior). To access a value by position, use `ser.iloc[pos]`\n",
      "  age_gender = torch.tensor(age_gender, dtype=torch.float32)\n"
     ]
    },
    {
     "name": "stdout",
     "output_type": "stream",
     "text": [
      "Phase:train, epoch loss: 0.1528\n",
      "Phase:validate, epoch loss: 0.1653\n",
      "Kappa: 0.7146 F1: 0.8573 AUC: 0.7093\n"
     ]
    },
    {
     "name": "stderr",
     "output_type": "stream",
     "text": [
      "/state/partition1/job-45816666/ipykernel_557996/3600892822.py:40: FutureWarning: Series.__getitem__ treating keys as positions is deprecated. In a future version, integer keys will always be treated as labels (consistent with DataFrame behavior). To access a value by position, use `ser.iloc[pos]`\n",
      "  age_gender = torch.tensor(age_gender, dtype=torch.float32)\n"
     ]
    },
    {
     "name": "stdout",
     "output_type": "stream",
     "text": [
      "Phase:test, epoch loss: 0.1652\n",
      "Kappa: 0.7063 F1: 0.8531 AUC: 0.6751\n",
      "Epoch complete in 11m 2s\n",
      "----------\n",
      "Epoch: 5/10\n",
      "----------\n"
     ]
    },
    {
     "name": "stderr",
     "output_type": "stream",
     "text": [
      "/state/partition1/job-45816666/ipykernel_557996/3600892822.py:40: FutureWarning: Series.__getitem__ treating keys as positions is deprecated. In a future version, integer keys will always be treated as labels (consistent with DataFrame behavior). To access a value by position, use `ser.iloc[pos]`\n",
      "  age_gender = torch.tensor(age_gender, dtype=torch.float32)\n"
     ]
    },
    {
     "name": "stdout",
     "output_type": "stream",
     "text": [
      "Phase:train, epoch loss: 0.1459\n",
      "Phase:validate, epoch loss: 0.1617\n",
      "Kappa: 0.7116 F1: 0.8558 AUC: 0.7214\n"
     ]
    },
    {
     "name": "stderr",
     "output_type": "stream",
     "text": [
      "/state/partition1/job-45816666/ipykernel_557996/3600892822.py:40: FutureWarning: Series.__getitem__ treating keys as positions is deprecated. In a future version, integer keys will always be treated as labels (consistent with DataFrame behavior). To access a value by position, use `ser.iloc[pos]`\n",
      "  age_gender = torch.tensor(age_gender, dtype=torch.float32)\n"
     ]
    },
    {
     "name": "stdout",
     "output_type": "stream",
     "text": [
      "Phase:test, epoch loss: 0.1657\n",
      "Kappa: 0.7063 F1: 0.8531 AUC: 0.6740\n",
      "Epoch complete in 10m 31s\n",
      "----------\n",
      "Epoch: 6/10\n",
      "----------\n"
     ]
    },
    {
     "name": "stderr",
     "output_type": "stream",
     "text": [
      "/state/partition1/job-45816666/ipykernel_557996/3600892822.py:40: FutureWarning: Series.__getitem__ treating keys as positions is deprecated. In a future version, integer keys will always be treated as labels (consistent with DataFrame behavior). To access a value by position, use `ser.iloc[pos]`\n",
      "  age_gender = torch.tensor(age_gender, dtype=torch.float32)\n"
     ]
    },
    {
     "name": "stdout",
     "output_type": "stream",
     "text": [
      "Phase:train, epoch loss: 0.1369\n",
      "Phase:validate, epoch loss: 0.1654\n",
      "Kappa: 0.7071 F1: 0.8535 AUC: 0.7085\n"
     ]
    },
    {
     "name": "stderr",
     "output_type": "stream",
     "text": [
      "/state/partition1/job-45816666/ipykernel_557996/3600892822.py:40: FutureWarning: Series.__getitem__ treating keys as positions is deprecated. In a future version, integer keys will always be treated as labels (consistent with DataFrame behavior). To access a value by position, use `ser.iloc[pos]`\n",
      "  age_gender = torch.tensor(age_gender, dtype=torch.float32)\n"
     ]
    },
    {
     "name": "stdout",
     "output_type": "stream",
     "text": [
      "Phase:test, epoch loss: 0.1680\n",
      "Kappa: 0.6976 F1: 0.8488 AUC: 0.6724\n",
      "Epoch complete in 11m 3s\n",
      "----------\n",
      "Epoch: 7/10\n",
      "----------\n"
     ]
    },
    {
     "name": "stderr",
     "output_type": "stream",
     "text": [
      "/state/partition1/job-45816666/ipykernel_557996/3600892822.py:40: FutureWarning: Series.__getitem__ treating keys as positions is deprecated. In a future version, integer keys will always be treated as labels (consistent with DataFrame behavior). To access a value by position, use `ser.iloc[pos]`\n",
      "  age_gender = torch.tensor(age_gender, dtype=torch.float32)\n"
     ]
    },
    {
     "name": "stdout",
     "output_type": "stream",
     "text": [
      "Phase:train, epoch loss: 0.1282\n",
      "Phase:validate, epoch loss: 0.1692\n",
      "Kappa: 0.7020 F1: 0.8510 AUC: 0.7059\n"
     ]
    },
    {
     "name": "stderr",
     "output_type": "stream",
     "text": [
      "/state/partition1/job-45816666/ipykernel_557996/3600892822.py:40: FutureWarning: Series.__getitem__ treating keys as positions is deprecated. In a future version, integer keys will always be treated as labels (consistent with DataFrame behavior). To access a value by position, use `ser.iloc[pos]`\n",
      "  age_gender = torch.tensor(age_gender, dtype=torch.float32)\n"
     ]
    },
    {
     "name": "stdout",
     "output_type": "stream",
     "text": [
      "Phase:test, epoch loss: 0.1720\n",
      "Kappa: 0.6910 F1: 0.8455 AUC: 0.6588\n",
      "Epoch complete in 10m 24s\n",
      "----------\n",
      "Epoch: 8/10\n",
      "----------\n"
     ]
    },
    {
     "name": "stderr",
     "output_type": "stream",
     "text": [
      "/state/partition1/job-45816666/ipykernel_557996/3600892822.py:40: FutureWarning: Series.__getitem__ treating keys as positions is deprecated. In a future version, integer keys will always be treated as labels (consistent with DataFrame behavior). To access a value by position, use `ser.iloc[pos]`\n",
      "  age_gender = torch.tensor(age_gender, dtype=torch.float32)\n"
     ]
    },
    {
     "name": "stdout",
     "output_type": "stream",
     "text": [
      "Phase:train, epoch loss: 0.1177\n",
      "Phase:validate, epoch loss: 0.1746\n",
      "Kappa: 0.6942 F1: 0.8471 AUC: 0.6746\n"
     ]
    },
    {
     "name": "stderr",
     "output_type": "stream",
     "text": [
      "/state/partition1/job-45816666/ipykernel_557996/3600892822.py:40: FutureWarning: Series.__getitem__ treating keys as positions is deprecated. In a future version, integer keys will always be treated as labels (consistent with DataFrame behavior). To access a value by position, use `ser.iloc[pos]`\n",
      "  age_gender = torch.tensor(age_gender, dtype=torch.float32)\n"
     ]
    },
    {
     "name": "stdout",
     "output_type": "stream",
     "text": [
      "Phase:test, epoch loss: 0.1809\n",
      "Kappa: 0.6847 F1: 0.8424 AUC: 0.6371\n",
      "Epoch complete in 11m 10s\n",
      "----------\n",
      "Epoch: 9/10\n",
      "----------\n"
     ]
    },
    {
     "name": "stderr",
     "output_type": "stream",
     "text": [
      "/state/partition1/job-45816666/ipykernel_557996/3600892822.py:40: FutureWarning: Series.__getitem__ treating keys as positions is deprecated. In a future version, integer keys will always be treated as labels (consistent with DataFrame behavior). To access a value by position, use `ser.iloc[pos]`\n",
      "  age_gender = torch.tensor(age_gender, dtype=torch.float32)\n"
     ]
    },
    {
     "name": "stdout",
     "output_type": "stream",
     "text": [
      "Phase:train, epoch loss: 0.1082\n",
      "Phase:validate, epoch loss: 0.1795\n",
      "Kappa: 0.6914 F1: 0.8457 AUC: 0.6505\n"
     ]
    },
    {
     "name": "stderr",
     "output_type": "stream",
     "text": [
      "/state/partition1/job-45816666/ipykernel_557996/3600892822.py:40: FutureWarning: Series.__getitem__ treating keys as positions is deprecated. In a future version, integer keys will always be treated as labels (consistent with DataFrame behavior). To access a value by position, use `ser.iloc[pos]`\n",
      "  age_gender = torch.tensor(age_gender, dtype=torch.float32)\n"
     ]
    },
    {
     "name": "stdout",
     "output_type": "stream",
     "text": [
      "Phase:test, epoch loss: 0.1818\n",
      "Kappa: 0.6943 F1: 0.8472 AUC: 0.6332\n",
      "Epoch complete in 9m 50s\n",
      "----------\n",
      "Epoch: 10/10\n",
      "----------\n"
     ]
    },
    {
     "name": "stderr",
     "output_type": "stream",
     "text": [
      "/state/partition1/job-45816666/ipykernel_557996/3600892822.py:40: FutureWarning: Series.__getitem__ treating keys as positions is deprecated. In a future version, integer keys will always be treated as labels (consistent with DataFrame behavior). To access a value by position, use `ser.iloc[pos]`\n",
      "  age_gender = torch.tensor(age_gender, dtype=torch.float32)\n"
     ]
    },
    {
     "name": "stdout",
     "output_type": "stream",
     "text": [
      "Phase:train, epoch loss: 0.0984\n",
      "Phase:validate, epoch loss: 0.1845\n",
      "Kappa: 0.6932 F1: 0.8466 AUC: 0.6566\n"
     ]
    },
    {
     "name": "stderr",
     "output_type": "stream",
     "text": [
      "/state/partition1/job-45816666/ipykernel_557996/3600892822.py:40: FutureWarning: Series.__getitem__ treating keys as positions is deprecated. In a future version, integer keys will always be treated as labels (consistent with DataFrame behavior). To access a value by position, use `ser.iloc[pos]`\n",
      "  age_gender = torch.tensor(age_gender, dtype=torch.float32)\n"
     ]
    },
    {
     "name": "stdout",
     "output_type": "stream",
     "text": [
      "Phase:test, epoch loss: 0.1946\n",
      "Kappa: 0.6797 F1: 0.8398 AUC: 0.6131\n",
      "Epoch complete in 10m 26s\n",
      "----------\n",
      "Training complete in 104m 28s\n",
      "Best Val F1: 0.857954 at Epoch 8\n",
      "Corresponding Kappa: 0.715909 and AUC: 0.694188\n"
     ]
    }
   ],
   "source": [
    "efc_model = EarlyFusionCONCAT_MM_Resnet18()\n",
    "efc_model.to(device)\n",
    "save_path = \"./saved_models/bs_16_lr_1e-05/EFC_MM_F1_{}.pt\"\n",
    "file_path = \"./saved_results/bs_16_lr_1e-05/EFC_MM_results.pkl\"\n",
    "criterion = nn.BCEWithLogitsLoss()\n",
    "optimizer = torch.optim.Adam(efc_model.parameters(), lr=lr)\n",
    "efc_results = []\n",
    "acc_dict, loss_dict, kappa_dict, f1_dict, auc_dict = train_model(efc_model, dataloader, optimizer, criterion, num_epochs=10, save_path=save_path)\n",
    "efc_results.append((acc_dict, loss_dict, kappa_dict, f1_dict, auc_dict))\n",
    "with open(file_path, 'wb') as file:\n",
    "    pickle.dump(efc_results, file)"
   ]
  },
  {
   "cell_type": "code",
   "execution_count": 14,
   "id": "56ca8152-88e9-49e2-8217-45acec8f8e4f",
   "metadata": {
    "scrolled": true
   },
   "outputs": [
    {
     "name": "stdout",
     "output_type": "stream",
     "text": [
      "----------\n",
      "Epoch: 1/10\n",
      "----------\n"
     ]
    },
    {
     "name": "stderr",
     "output_type": "stream",
     "text": [
      "/state/partition1/job-45816669/ipykernel_1079438/3600892822.py:40: FutureWarning: Series.__getitem__ treating keys as positions is deprecated. In a future version, integer keys will always be treated as labels (consistent with DataFrame behavior). To access a value by position, use `ser.iloc[pos]`\n",
      "  age_gender = torch.tensor(age_gender, dtype=torch.float32)\n"
     ]
    },
    {
     "name": "stdout",
     "output_type": "stream",
     "text": [
      "Phase:train, epoch loss: 0.3085\n",
      "Phase:validate, epoch loss: 0.1745\n",
      "Kappa: 0.7098 F1: 0.8549 AUC: 0.6292\n"
     ]
    },
    {
     "name": "stderr",
     "output_type": "stream",
     "text": [
      "/state/partition1/job-45816669/ipykernel_1079438/3600892822.py:40: FutureWarning: Series.__getitem__ treating keys as positions is deprecated. In a future version, integer keys will always be treated as labels (consistent with DataFrame behavior). To access a value by position, use `ser.iloc[pos]`\n",
      "  age_gender = torch.tensor(age_gender, dtype=torch.float32)\n"
     ]
    },
    {
     "name": "stdout",
     "output_type": "stream",
     "text": [
      "Phase:test, epoch loss: 0.1743\n",
      "Kappa: 0.7075 F1: 0.8538 AUC: 0.6044\n",
      "Epoch complete in 11m 1s\n",
      "----------\n",
      "Epoch: 2/10\n",
      "----------\n"
     ]
    },
    {
     "name": "stderr",
     "output_type": "stream",
     "text": [
      "/state/partition1/job-45816669/ipykernel_1079438/3600892822.py:40: FutureWarning: Series.__getitem__ treating keys as positions is deprecated. In a future version, integer keys will always be treated as labels (consistent with DataFrame behavior). To access a value by position, use `ser.iloc[pos]`\n",
      "  age_gender = torch.tensor(age_gender, dtype=torch.float32)\n"
     ]
    },
    {
     "name": "stdout",
     "output_type": "stream",
     "text": [
      "Phase:train, epoch loss: 0.1655\n",
      "Phase:validate, epoch loss: 0.1667\n",
      "Kappa: 0.7136 F1: 0.8568 AUC: 0.6782\n"
     ]
    },
    {
     "name": "stderr",
     "output_type": "stream",
     "text": [
      "/state/partition1/job-45816669/ipykernel_1079438/3600892822.py:40: FutureWarning: Series.__getitem__ treating keys as positions is deprecated. In a future version, integer keys will always be treated as labels (consistent with DataFrame behavior). To access a value by position, use `ser.iloc[pos]`\n",
      "  age_gender = torch.tensor(age_gender, dtype=torch.float32)\n"
     ]
    },
    {
     "name": "stdout",
     "output_type": "stream",
     "text": [
      "Phase:test, epoch loss: 0.1669\n",
      "Kappa: 0.7074 F1: 0.8537 AUC: 0.6588\n",
      "Epoch complete in 8m 1s\n",
      "----------\n",
      "Epoch: 3/10\n",
      "----------\n"
     ]
    },
    {
     "name": "stderr",
     "output_type": "stream",
     "text": [
      "/state/partition1/job-45816669/ipykernel_1079438/3600892822.py:40: FutureWarning: Series.__getitem__ treating keys as positions is deprecated. In a future version, integer keys will always be treated as labels (consistent with DataFrame behavior). To access a value by position, use `ser.iloc[pos]`\n",
      "  age_gender = torch.tensor(age_gender, dtype=torch.float32)\n"
     ]
    },
    {
     "name": "stdout",
     "output_type": "stream",
     "text": [
      "Phase:train, epoch loss: 0.1553\n",
      "Phase:validate, epoch loss: 0.1616\n",
      "Kappa: 0.7215 F1: 0.8607 AUC: 0.6983\n"
     ]
    },
    {
     "name": "stderr",
     "output_type": "stream",
     "text": [
      "/state/partition1/job-45816669/ipykernel_1079438/3600892822.py:40: FutureWarning: Series.__getitem__ treating keys as positions is deprecated. In a future version, integer keys will always be treated as labels (consistent with DataFrame behavior). To access a value by position, use `ser.iloc[pos]`\n",
      "  age_gender = torch.tensor(age_gender, dtype=torch.float32)\n"
     ]
    },
    {
     "name": "stdout",
     "output_type": "stream",
     "text": [
      "Phase:test, epoch loss: 0.1638\n",
      "Kappa: 0.7113 F1: 0.8557 AUC: 0.6711\n",
      "Epoch complete in 8m 2s\n",
      "----------\n",
      "Epoch: 4/10\n",
      "----------\n"
     ]
    },
    {
     "name": "stderr",
     "output_type": "stream",
     "text": [
      "/state/partition1/job-45816669/ipykernel_1079438/3600892822.py:40: FutureWarning: Series.__getitem__ treating keys as positions is deprecated. In a future version, integer keys will always be treated as labels (consistent with DataFrame behavior). To access a value by position, use `ser.iloc[pos]`\n",
      "  age_gender = torch.tensor(age_gender, dtype=torch.float32)\n"
     ]
    },
    {
     "name": "stdout",
     "output_type": "stream",
     "text": [
      "Phase:train, epoch loss: 0.1459\n",
      "Phase:validate, epoch loss: 0.1612\n",
      "Kappa: 0.7255 F1: 0.8628 AUC: 0.7097\n"
     ]
    },
    {
     "name": "stderr",
     "output_type": "stream",
     "text": [
      "/state/partition1/job-45816669/ipykernel_1079438/3600892822.py:40: FutureWarning: Series.__getitem__ treating keys as positions is deprecated. In a future version, integer keys will always be treated as labels (consistent with DataFrame behavior). To access a value by position, use `ser.iloc[pos]`\n",
      "  age_gender = torch.tensor(age_gender, dtype=torch.float32)\n"
     ]
    },
    {
     "name": "stdout",
     "output_type": "stream",
     "text": [
      "Phase:test, epoch loss: 0.1646\n",
      "Kappa: 0.7085 F1: 0.8543 AUC: 0.6701\n",
      "Epoch complete in 8m 16s\n",
      "----------\n",
      "Epoch: 5/10\n",
      "----------\n"
     ]
    },
    {
     "name": "stderr",
     "output_type": "stream",
     "text": [
      "/state/partition1/job-45816669/ipykernel_1079438/3600892822.py:40: FutureWarning: Series.__getitem__ treating keys as positions is deprecated. In a future version, integer keys will always be treated as labels (consistent with DataFrame behavior). To access a value by position, use `ser.iloc[pos]`\n",
      "  age_gender = torch.tensor(age_gender, dtype=torch.float32)\n"
     ]
    },
    {
     "name": "stdout",
     "output_type": "stream",
     "text": [
      "Phase:train, epoch loss: 0.1370\n",
      "Phase:validate, epoch loss: 0.1604\n",
      "Kappa: 0.7225 F1: 0.8612 AUC: 0.7181\n"
     ]
    },
    {
     "name": "stderr",
     "output_type": "stream",
     "text": [
      "/state/partition1/job-45816669/ipykernel_1079438/3600892822.py:40: FutureWarning: Series.__getitem__ treating keys as positions is deprecated. In a future version, integer keys will always be treated as labels (consistent with DataFrame behavior). To access a value by position, use `ser.iloc[pos]`\n",
      "  age_gender = torch.tensor(age_gender, dtype=torch.float32)\n"
     ]
    },
    {
     "name": "stdout",
     "output_type": "stream",
     "text": [
      "Phase:test, epoch loss: 0.1658\n",
      "Kappa: 0.7067 F1: 0.8533 AUC: 0.6544\n",
      "Epoch complete in 8m 6s\n",
      "----------\n",
      "Epoch: 6/10\n",
      "----------\n"
     ]
    },
    {
     "name": "stderr",
     "output_type": "stream",
     "text": [
      "/state/partition1/job-45816669/ipykernel_1079438/3600892822.py:40: FutureWarning: Series.__getitem__ treating keys as positions is deprecated. In a future version, integer keys will always be treated as labels (consistent with DataFrame behavior). To access a value by position, use `ser.iloc[pos]`\n",
      "  age_gender = torch.tensor(age_gender, dtype=torch.float32)\n"
     ]
    },
    {
     "name": "stdout",
     "output_type": "stream",
     "text": [
      "Phase:train, epoch loss: 0.1267\n",
      "Phase:validate, epoch loss: 0.1634\n",
      "Kappa: 0.7237 F1: 0.8619 AUC: 0.7219\n"
     ]
    },
    {
     "name": "stderr",
     "output_type": "stream",
     "text": [
      "/state/partition1/job-45816669/ipykernel_1079438/3600892822.py:40: FutureWarning: Series.__getitem__ treating keys as positions is deprecated. In a future version, integer keys will always be treated as labels (consistent with DataFrame behavior). To access a value by position, use `ser.iloc[pos]`\n",
      "  age_gender = torch.tensor(age_gender, dtype=torch.float32)\n"
     ]
    },
    {
     "name": "stdout",
     "output_type": "stream",
     "text": [
      "Phase:test, epoch loss: 0.1710\n",
      "Kappa: 0.7014 F1: 0.8507 AUC: 0.6540\n",
      "Epoch complete in 8m 41s\n",
      "----------\n",
      "Epoch: 7/10\n",
      "----------\n"
     ]
    },
    {
     "name": "stderr",
     "output_type": "stream",
     "text": [
      "/state/partition1/job-45816669/ipykernel_1079438/3600892822.py:40: FutureWarning: Series.__getitem__ treating keys as positions is deprecated. In a future version, integer keys will always be treated as labels (consistent with DataFrame behavior). To access a value by position, use `ser.iloc[pos]`\n",
      "  age_gender = torch.tensor(age_gender, dtype=torch.float32)\n"
     ]
    },
    {
     "name": "stdout",
     "output_type": "stream",
     "text": [
      "Phase:train, epoch loss: 0.1161\n",
      "Phase:validate, epoch loss: 0.1743\n",
      "Kappa: 0.7184 F1: 0.8592 AUC: 0.7142\n"
     ]
    },
    {
     "name": "stderr",
     "output_type": "stream",
     "text": [
      "/state/partition1/job-45816669/ipykernel_1079438/3600892822.py:40: FutureWarning: Series.__getitem__ treating keys as positions is deprecated. In a future version, integer keys will always be treated as labels (consistent with DataFrame behavior). To access a value by position, use `ser.iloc[pos]`\n",
      "  age_gender = torch.tensor(age_gender, dtype=torch.float32)\n"
     ]
    },
    {
     "name": "stdout",
     "output_type": "stream",
     "text": [
      "Phase:test, epoch loss: 0.1870\n",
      "Kappa: 0.6888 F1: 0.8444 AUC: 0.6523\n",
      "Epoch complete in 8m 40s\n",
      "----------\n",
      "Epoch: 8/10\n",
      "----------\n"
     ]
    },
    {
     "name": "stderr",
     "output_type": "stream",
     "text": [
      "/state/partition1/job-45816669/ipykernel_1079438/3600892822.py:40: FutureWarning: Series.__getitem__ treating keys as positions is deprecated. In a future version, integer keys will always be treated as labels (consistent with DataFrame behavior). To access a value by position, use `ser.iloc[pos]`\n",
      "  age_gender = torch.tensor(age_gender, dtype=torch.float32)\n"
     ]
    },
    {
     "name": "stdout",
     "output_type": "stream",
     "text": [
      "Phase:train, epoch loss: 0.1021\n",
      "Phase:validate, epoch loss: 0.1851\n",
      "Kappa: 0.7083 F1: 0.8542 AUC: 0.7014\n"
     ]
    },
    {
     "name": "stderr",
     "output_type": "stream",
     "text": [
      "/state/partition1/job-45816669/ipykernel_1079438/3600892822.py:40: FutureWarning: Series.__getitem__ treating keys as positions is deprecated. In a future version, integer keys will always be treated as labels (consistent with DataFrame behavior). To access a value by position, use `ser.iloc[pos]`\n",
      "  age_gender = torch.tensor(age_gender, dtype=torch.float32)\n"
     ]
    },
    {
     "name": "stdout",
     "output_type": "stream",
     "text": [
      "Phase:test, epoch loss: 0.1904\n",
      "Kappa: 0.6895 F1: 0.8448 AUC: 0.6369\n",
      "Epoch complete in 9m 16s\n",
      "----------\n",
      "Epoch: 9/10\n",
      "----------\n"
     ]
    },
    {
     "name": "stderr",
     "output_type": "stream",
     "text": [
      "/state/partition1/job-45816669/ipykernel_1079438/3600892822.py:40: FutureWarning: Series.__getitem__ treating keys as positions is deprecated. In a future version, integer keys will always be treated as labels (consistent with DataFrame behavior). To access a value by position, use `ser.iloc[pos]`\n",
      "  age_gender = torch.tensor(age_gender, dtype=torch.float32)\n"
     ]
    },
    {
     "name": "stdout",
     "output_type": "stream",
     "text": [
      "Phase:train, epoch loss: 0.0908\n",
      "Phase:validate, epoch loss: 0.1948\n",
      "Kappa: 0.6952 F1: 0.8476 AUC: 0.6980\n"
     ]
    },
    {
     "name": "stderr",
     "output_type": "stream",
     "text": [
      "/state/partition1/job-45816669/ipykernel_1079438/3600892822.py:40: FutureWarning: Series.__getitem__ treating keys as positions is deprecated. In a future version, integer keys will always be treated as labels (consistent with DataFrame behavior). To access a value by position, use `ser.iloc[pos]`\n",
      "  age_gender = torch.tensor(age_gender, dtype=torch.float32)\n"
     ]
    },
    {
     "name": "stdout",
     "output_type": "stream",
     "text": [
      "Phase:test, epoch loss: 0.2023\n",
      "Kappa: 0.6874 F1: 0.8437 AUC: 0.6437\n",
      "Epoch complete in 8m 20s\n",
      "----------\n",
      "Epoch: 10/10\n",
      "----------\n"
     ]
    },
    {
     "name": "stderr",
     "output_type": "stream",
     "text": [
      "/state/partition1/job-45816669/ipykernel_1079438/3600892822.py:40: FutureWarning: Series.__getitem__ treating keys as positions is deprecated. In a future version, integer keys will always be treated as labels (consistent with DataFrame behavior). To access a value by position, use `ser.iloc[pos]`\n",
      "  age_gender = torch.tensor(age_gender, dtype=torch.float32)\n"
     ]
    },
    {
     "name": "stdout",
     "output_type": "stream",
     "text": [
      "Phase:train, epoch loss: 0.0800\n",
      "Phase:validate, epoch loss: 0.2117\n",
      "Kappa: 0.7008 F1: 0.8504 AUC: 0.7032\n"
     ]
    },
    {
     "name": "stderr",
     "output_type": "stream",
     "text": [
      "/state/partition1/job-45816669/ipykernel_1079438/3600892822.py:40: FutureWarning: Series.__getitem__ treating keys as positions is deprecated. In a future version, integer keys will always be treated as labels (consistent with DataFrame behavior). To access a value by position, use `ser.iloc[pos]`\n",
      "  age_gender = torch.tensor(age_gender, dtype=torch.float32)\n"
     ]
    },
    {
     "name": "stdout",
     "output_type": "stream",
     "text": [
      "Phase:test, epoch loss: 0.2234\n",
      "Kappa: 0.6786 F1: 0.8393 AUC: 0.6341\n",
      "Epoch complete in 8m 8s\n",
      "----------\n",
      "Training complete in 86m 32s\n",
      "Best Val F1: 0.862752 at Epoch 8\n",
      "Corresponding Kappa: 0.725505 and AUC: 0.709748\n"
     ]
    }
   ],
   "source": [
    "efp_model = EarlyFusionPROD_MM_Resnet18()\n",
    "efp_model.to(device)\n",
    "save_path = \"./saved_models/bs_16_lr_1e-05/EFP_MM_F1_{}.pt\"\n",
    "file_path = \"./saved_results/bs_16_lr_1e-05/EFP_MM_results.pkl\"\n",
    "criterion = nn.BCEWithLogitsLoss()\n",
    "optimizer = torch.optim.Adam(efp_model.parameters(), lr=lr)\n",
    "efp_results = []\n",
    "acc_dict, loss_dict, kappa_dict, f1_dict, auc_dict = train_model(efp_model, dataloader, optimizer, criterion, num_epochs=10, save_path=save_path)\n",
    "efp_results.append((acc_dict, loss_dict, kappa_dict, f1_dict, auc_dict))\n",
    "with open(file_path, 'wb') as file:\n",
    "    pickle.dump(efp_results, file)"
   ]
  }
 ],
 "metadata": {
  "kernelspec": {
   "display_name": "dl4med_env",
   "language": "python",
   "name": "dl4med_env"
  },
  "language_info": {
   "codemirror_mode": {
    "name": "ipython",
    "version": 3
   },
   "file_extension": ".py",
   "mimetype": "text/x-python",
   "name": "python",
   "nbconvert_exporter": "python",
   "pygments_lexer": "ipython3",
   "version": "3.12.1"
  }
 },
 "nbformat": 4,
 "nbformat_minor": 5
}
